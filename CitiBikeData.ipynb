{
 "cells": [
  {
   "cell_type": "code",
   "execution_count": 1,
   "metadata": {
    "collapsed": false
   },
   "outputs": [],
   "source": [
    "import zipfile\n",
    "from subprocess import call\n",
    "\n",
    "import psutil\n",
    "\n",
    "import pandas as pd\n",
    "import numpy as np\n",
    "import json\n",
    "import datetime\n",
    "\n",
    "import os\n",
    "import cPickle as pickle\n",
    "from multiprocessing import Pool\n",
    "\n",
    "import geopy\n",
    "import geopandas as gpd\n",
    "import shapely.geometry as geom\n",
    "\n",
    "import matplotlib.pyplot as plt\n",
    "import seaborn as sns\n",
    "\n",
    "%matplotlib inline"
   ]
  },
  {
   "cell_type": "code",
   "execution_count": 99,
   "metadata": {
    "collapsed": true
   },
   "outputs": [],
   "source": [
    "pd.options.display.max_columns = 55"
   ]
  },
  {
   "cell_type": "markdown",
   "metadata": {},
   "source": [
    "### AQUIRE DATA WITH WGET AND ZIPFILE"
   ]
  },
  {
   "cell_type": "code",
   "execution_count": 2,
   "metadata": {
    "collapsed": false
   },
   "outputs": [
    {
     "name": "stdout",
     "output_type": "stream",
     "text": [
      "https://s3.amazonaws.com/tripdata/201501-citibike-tripdata.zip\n",
      "https://s3.amazonaws.com/tripdata/201502-citibike-tripdata.zip\n",
      "https://s3.amazonaws.com/tripdata/201503-citibike-tripdata.zip\n",
      "https://s3.amazonaws.com/tripdata/201504-citibike-tripdata.zip\n",
      "https://s3.amazonaws.com/tripdata/201505-citibike-tripdata.zip\n",
      "https://s3.amazonaws.com/tripdata/201506-citibike-tripdata.zip\n",
      "https://s3.amazonaws.com/tripdata/201507-citibike-tripdata.zip\n",
      "https://s3.amazonaws.com/tripdata/201508-citibike-tripdata.zip\n",
      "https://s3.amazonaws.com/tripdata/201509-citibike-tripdata.zip\n",
      "https://s3.amazonaws.com/tripdata/201510-citibike-tripdata.zip\n",
      "https://s3.amazonaws.com/tripdata/201511-citibike-tripdata.zip\n",
      "https://s3.amazonaws.com/tripdata/201512-citibike-tripdata.zip\n"
     ]
    }
   ],
   "source": [
    "base_url = \"https://s3.amazonaws.com/tripdata/\"\n",
    "for d in range(201501,201513):\n",
    "    url = base_url + str(d) + '-citibike-tripdata.zip'\n",
    "    print(url)\n",
    "    call(['wget',url])\n",
    "    zfile = zipfile.ZipFile(str(d)+'-citibike-tripdata.zip', 'r' )\n",
    "    zfile.extractall('unzippedData/')\n",
    "    zfile.close()"
   ]
  },
  {
   "cell_type": "code",
   "execution_count": 57,
   "metadata": {
    "collapsed": false
   },
   "outputs": [],
   "source": [
    "# LOAD INTO PANDAS\n",
    "dfs = []\n",
    "for f in os.listdir('unzippedData/'):\n",
    "    dfs.append(pd.read_csv('unzippedData/'+f))\n",
    "    \n",
    "full_df = pd.concat(dfs, ignore_index=True)"
   ]
  },
  {
   "cell_type": "code",
   "execution_count": 58,
   "metadata": {
    "collapsed": false
   },
   "outputs": [
    {
     "name": "stdout",
     "output_type": "stream",
     "text": [
      "(9937969, 15)\n",
      "Index([u'tripduration', u'starttime', u'stoptime', u'start station id',\n",
      "       u'start station name', u'start station latitude',\n",
      "       u'start station longitude', u'end station id', u'end station name',\n",
      "       u'end station latitude', u'end station longitude', u'bikeid',\n",
      "       u'usertype', u'birth year', u'gender'],\n",
      "      dtype='object')\n"
     ]
    },
    {
     "data": {
      "text/html": [
       "<div>\n",
       "<table border=\"1\" class=\"dataframe\">\n",
       "  <thead>\n",
       "    <tr style=\"text-align: right;\">\n",
       "      <th></th>\n",
       "      <th>tripduration</th>\n",
       "      <th>starttime</th>\n",
       "      <th>stoptime</th>\n",
       "      <th>start station id</th>\n",
       "      <th>start station name</th>\n",
       "      <th>start station latitude</th>\n",
       "      <th>start station longitude</th>\n",
       "      <th>end station id</th>\n",
       "      <th>end station name</th>\n",
       "      <th>end station latitude</th>\n",
       "      <th>end station longitude</th>\n",
       "      <th>bikeid</th>\n",
       "      <th>usertype</th>\n",
       "      <th>birth year</th>\n",
       "      <th>gender</th>\n",
       "    </tr>\n",
       "  </thead>\n",
       "  <tbody>\n",
       "    <tr>\n",
       "      <th>0</th>\n",
       "      <td>1346</td>\n",
       "      <td>1/1/2015 0:01</td>\n",
       "      <td>1/1/2015 0:24</td>\n",
       "      <td>455</td>\n",
       "      <td>1 Ave &amp; E 44 St</td>\n",
       "      <td>40.750020</td>\n",
       "      <td>-73.969053</td>\n",
       "      <td>265</td>\n",
       "      <td>Stanton St &amp; Chrystie St</td>\n",
       "      <td>40.722293</td>\n",
       "      <td>-73.991475</td>\n",
       "      <td>18660</td>\n",
       "      <td>Subscriber</td>\n",
       "      <td>1960.0</td>\n",
       "      <td>2</td>\n",
       "    </tr>\n",
       "    <tr>\n",
       "      <th>1</th>\n",
       "      <td>363</td>\n",
       "      <td>1/1/2015 0:02</td>\n",
       "      <td>1/1/2015 0:08</td>\n",
       "      <td>434</td>\n",
       "      <td>9 Ave &amp; W 18 St</td>\n",
       "      <td>40.743174</td>\n",
       "      <td>-74.003664</td>\n",
       "      <td>482</td>\n",
       "      <td>W 15 St &amp; 7 Ave</td>\n",
       "      <td>40.739355</td>\n",
       "      <td>-73.999318</td>\n",
       "      <td>16085</td>\n",
       "      <td>Subscriber</td>\n",
       "      <td>1963.0</td>\n",
       "      <td>1</td>\n",
       "    </tr>\n",
       "    <tr>\n",
       "      <th>2</th>\n",
       "      <td>346</td>\n",
       "      <td>1/1/2015 0:04</td>\n",
       "      <td>1/1/2015 0:10</td>\n",
       "      <td>491</td>\n",
       "      <td>E 24 St &amp; Park Ave S</td>\n",
       "      <td>40.740964</td>\n",
       "      <td>-73.986022</td>\n",
       "      <td>505</td>\n",
       "      <td>6 Ave &amp; W 33 St</td>\n",
       "      <td>40.749013</td>\n",
       "      <td>-73.988484</td>\n",
       "      <td>20845</td>\n",
       "      <td>Subscriber</td>\n",
       "      <td>1974.0</td>\n",
       "      <td>1</td>\n",
       "    </tr>\n",
       "    <tr>\n",
       "      <th>3</th>\n",
       "      <td>182</td>\n",
       "      <td>1/1/2015 0:04</td>\n",
       "      <td>1/1/2015 0:07</td>\n",
       "      <td>384</td>\n",
       "      <td>Fulton St &amp; Waverly Ave</td>\n",
       "      <td>40.683178</td>\n",
       "      <td>-73.965964</td>\n",
       "      <td>399</td>\n",
       "      <td>Lafayette Ave &amp; St James Pl</td>\n",
       "      <td>40.688515</td>\n",
       "      <td>-73.964763</td>\n",
       "      <td>19610</td>\n",
       "      <td>Subscriber</td>\n",
       "      <td>1969.0</td>\n",
       "      <td>1</td>\n",
       "    </tr>\n",
       "    <tr>\n",
       "      <th>4</th>\n",
       "      <td>969</td>\n",
       "      <td>1/1/2015 0:05</td>\n",
       "      <td>1/1/2015 0:21</td>\n",
       "      <td>474</td>\n",
       "      <td>5 Ave &amp; E 29 St</td>\n",
       "      <td>40.745168</td>\n",
       "      <td>-73.986831</td>\n",
       "      <td>432</td>\n",
       "      <td>E 7 St &amp; Avenue A</td>\n",
       "      <td>40.726218</td>\n",
       "      <td>-73.983799</td>\n",
       "      <td>20197</td>\n",
       "      <td>Subscriber</td>\n",
       "      <td>1977.0</td>\n",
       "      <td>1</td>\n",
       "    </tr>\n",
       "    <tr>\n",
       "      <th>5</th>\n",
       "      <td>496</td>\n",
       "      <td>1/1/2015 0:07</td>\n",
       "      <td>1/1/2015 0:15</td>\n",
       "      <td>512</td>\n",
       "      <td>W 29 St &amp; 9 Ave</td>\n",
       "      <td>40.750073</td>\n",
       "      <td>-73.998393</td>\n",
       "      <td>383</td>\n",
       "      <td>Greenwich Ave &amp; Charles St</td>\n",
       "      <td>40.735238</td>\n",
       "      <td>-74.000271</td>\n",
       "      <td>20788</td>\n",
       "      <td>Subscriber</td>\n",
       "      <td>1969.0</td>\n",
       "      <td>2</td>\n",
       "    </tr>\n",
       "    <tr>\n",
       "      <th>6</th>\n",
       "      <td>152</td>\n",
       "      <td>1/1/2015 0:07</td>\n",
       "      <td>1/1/2015 0:09</td>\n",
       "      <td>498</td>\n",
       "      <td>Broadway &amp; W 32 St</td>\n",
       "      <td>40.748549</td>\n",
       "      <td>-73.988084</td>\n",
       "      <td>474</td>\n",
       "      <td>5 Ave &amp; E 29 St</td>\n",
       "      <td>40.745168</td>\n",
       "      <td>-73.986831</td>\n",
       "      <td>19006</td>\n",
       "      <td>Subscriber</td>\n",
       "      <td>1972.0</td>\n",
       "      <td>1</td>\n",
       "    </tr>\n",
       "    <tr>\n",
       "      <th>7</th>\n",
       "      <td>1183</td>\n",
       "      <td>1/1/2015 0:08</td>\n",
       "      <td>1/1/2015 0:28</td>\n",
       "      <td>405</td>\n",
       "      <td>Washington St &amp; Gansevoort St</td>\n",
       "      <td>40.739323</td>\n",
       "      <td>-74.008119</td>\n",
       "      <td>174</td>\n",
       "      <td>E 25 St &amp; 1 Ave</td>\n",
       "      <td>40.738177</td>\n",
       "      <td>-73.977387</td>\n",
       "      <td>17640</td>\n",
       "      <td>Subscriber</td>\n",
       "      <td>1985.0</td>\n",
       "      <td>2</td>\n",
       "    </tr>\n",
       "  </tbody>\n",
       "</table>\n",
       "</div>"
      ],
      "text/plain": [
       "   tripduration      starttime       stoptime  start station id  \\\n",
       "0          1346  1/1/2015 0:01  1/1/2015 0:24               455   \n",
       "1           363  1/1/2015 0:02  1/1/2015 0:08               434   \n",
       "2           346  1/1/2015 0:04  1/1/2015 0:10               491   \n",
       "3           182  1/1/2015 0:04  1/1/2015 0:07               384   \n",
       "4           969  1/1/2015 0:05  1/1/2015 0:21               474   \n",
       "5           496  1/1/2015 0:07  1/1/2015 0:15               512   \n",
       "6           152  1/1/2015 0:07  1/1/2015 0:09               498   \n",
       "7          1183  1/1/2015 0:08  1/1/2015 0:28               405   \n",
       "\n",
       "              start station name  start station latitude  \\\n",
       "0                1 Ave & E 44 St               40.750020   \n",
       "1                9 Ave & W 18 St               40.743174   \n",
       "2           E 24 St & Park Ave S               40.740964   \n",
       "3        Fulton St & Waverly Ave               40.683178   \n",
       "4                5 Ave & E 29 St               40.745168   \n",
       "5                W 29 St & 9 Ave               40.750073   \n",
       "6             Broadway & W 32 St               40.748549   \n",
       "7  Washington St & Gansevoort St               40.739323   \n",
       "\n",
       "   start station longitude  end station id             end station name  \\\n",
       "0               -73.969053             265     Stanton St & Chrystie St   \n",
       "1               -74.003664             482              W 15 St & 7 Ave   \n",
       "2               -73.986022             505              6 Ave & W 33 St   \n",
       "3               -73.965964             399  Lafayette Ave & St James Pl   \n",
       "4               -73.986831             432            E 7 St & Avenue A   \n",
       "5               -73.998393             383   Greenwich Ave & Charles St   \n",
       "6               -73.988084             474              5 Ave & E 29 St   \n",
       "7               -74.008119             174              E 25 St & 1 Ave   \n",
       "\n",
       "   end station latitude  end station longitude  bikeid    usertype  \\\n",
       "0             40.722293             -73.991475   18660  Subscriber   \n",
       "1             40.739355             -73.999318   16085  Subscriber   \n",
       "2             40.749013             -73.988484   20845  Subscriber   \n",
       "3             40.688515             -73.964763   19610  Subscriber   \n",
       "4             40.726218             -73.983799   20197  Subscriber   \n",
       "5             40.735238             -74.000271   20788  Subscriber   \n",
       "6             40.745168             -73.986831   19006  Subscriber   \n",
       "7             40.738177             -73.977387   17640  Subscriber   \n",
       "\n",
       "   birth year  gender  \n",
       "0      1960.0       2  \n",
       "1      1963.0       1  \n",
       "2      1974.0       1  \n",
       "3      1969.0       1  \n",
       "4      1977.0       1  \n",
       "5      1969.0       2  \n",
       "6      1972.0       1  \n",
       "7      1985.0       2  "
      ]
     },
     "execution_count": 58,
     "metadata": {},
     "output_type": "execute_result"
    }
   ],
   "source": [
    "print(full_df.shape)\n",
    "\n",
    "print(full_df.columns)\n",
    "\n",
    "full_df.head(8)"
   ]
  },
  {
   "cell_type": "markdown",
   "metadata": {},
   "source": [
    " ### 1) HOW MANY DATA POINTS ARE THERE IN 2015\n"
   ]
  },
  {
   "cell_type": "code",
   "execution_count": 4,
   "metadata": {
    "collapsed": false
   },
   "outputs": [
    {
     "name": "stdout",
     "output_type": "stream",
     "text": [
      "9937969\n"
     ]
    }
   ],
   "source": [
    "total_rides = len(full_df)\n",
    "print(total_rides)"
   ]
  },
  {
   "cell_type": "markdown",
   "metadata": {},
   "source": [
    "### 2) EVALUATE TRIP DURATIONS"
   ]
  },
  {
   "cell_type": "markdown",
   "metadata": {},
   "source": [
    "Lets clean a little first:"
   ]
  },
  {
   "cell_type": "code",
   "execution_count": 6,
   "metadata": {
    "collapsed": false
   },
   "outputs": [
    {
     "name": "stdout",
     "output_type": "stream",
     "text": [
      "0.01324928665\n"
     ]
    }
   ],
   "source": [
    "# Get rid of rides that are too long\n",
    "# Citibike is designed for 30 min rides and charges $4 for every 15 min past that.\n",
    "\n",
    "# only 1% of rides are longer than an hour so we can get rid of them\n",
    "long_rides = len(full_df.loc[full_df.tripduration > 3600, 'tripduration'])\n",
    "print(float(long_rides)/len(full_df))\n"
   ]
  },
  {
   "cell_type": "code",
   "execution_count": 7,
   "metadata": {
    "collapsed": true
   },
   "outputs": [],
   "source": [
    "full_df.drop(full_df[full_df.tripduration>3600].index, inplace = True)\n",
    "assert len(full_df) == total_rides - long_rides"
   ]
  },
  {
   "cell_type": "code",
   "execution_count": 8,
   "metadata": {
    "collapsed": false
   },
   "outputs": [
    {
     "name": "stdout",
     "output_type": "stream",
     "text": [
      "('Number of Cancelled Rides:', 29345)\n"
     ]
    }
   ],
   "source": [
    "# Get rid of cancelled rides\n",
    "# I'm assuming that rides that are under 2 minutes and start and stop at the same station are essentially cancellations.\n",
    "\n",
    "cancelled = full_df.loc[(full_df.tripduration<120) & (full_df['start station id'] == full_df['end station id'])]\n",
    "print('Number of Cancelled Rides:', cancelled.shape[0])"
   ]
  },
  {
   "cell_type": "code",
   "execution_count": 9,
   "metadata": {
    "collapsed": false
   },
   "outputs": [],
   "source": [
    "full_df.drop(cancelled.index, inplace = True)\n",
    "\n",
    "assert len(full_df) == total_rides - long_rides - len(cancelled)"
   ]
  },
  {
   "cell_type": "code",
   "execution_count": 10,
   "metadata": {
    "collapsed": false
   },
   "outputs": [
    {
     "data": {
      "text/plain": [
       "tripduration                     0\n",
       "starttime                        0\n",
       "stoptime                         0\n",
       "start station id                 0\n",
       "start station name               0\n",
       "start station latitude           0\n",
       "start station longitude          0\n",
       "end station id                   0\n",
       "end station name                 0\n",
       "end station latitude             0\n",
       "end station longitude            0\n",
       "bikeid                           0\n",
       "usertype                         0\n",
       "birth year                 1210701\n",
       "gender                           0\n",
       "dtype: int64"
      ]
     },
     "execution_count": 10,
     "metadata": {},
     "output_type": "execute_result"
    }
   ],
   "source": [
    "# NAs\n",
    "\n",
    "# birth Year has 1.2 million nulls\n",
    "# we will come back to that as the rest looks pretty good.\n",
    "full_df.isnull().sum() "
   ]
  },
  {
   "cell_type": "markdown",
   "metadata": {},
   "source": [
    "Plot Trip Durations\n",
    "\n",
    "The data is too large for my puny macbook air so i'm going to use a sample of it"
   ]
  },
  {
   "cell_type": "code",
   "execution_count": 11,
   "metadata": {
    "collapsed": false
   },
   "outputs": [
    {
     "data": {
      "text/plain": [
       "<matplotlib.text.Text at 0x1125f2590>"
      ]
     },
     "execution_count": 11,
     "metadata": {},
     "output_type": "execute_result"
    },
    {
     "data": {
      "image/png": "[encoded data removed]",
      "text/plain": [
       "<matplotlib.figure.Figure at 0x156ca3dd0>"
      ]
     },
     "metadata": {},
     "output_type": "display_data"
    }
   ],
   "source": [
    "samp = full_df.sample(100000)\n",
    "\n",
    "plt.figure(figsize=(9,6))\n",
    "y, x, patches = plt.hist(samp.tripduration, bins = 100)\n",
    "\n",
    "# get center of bins rather than edges\n",
    "x = (x[1:] + x[:-1])/2\n",
    "# normalize y\n",
    "y = y/y.sum()\n",
    "\n",
    "\n",
    "ax = plt.gca()\n",
    "ax.set_xticklabels(np.round(plt.xticks()[0]/60, 2), rotation = 45)\n",
    "plt.xlabel('Length of Ride in Minutes')\n",
    "plt.ylabel('Number of Rides')\n",
    "plt.title('Distribution of Ride Duration')\n",
    "\n",
    "# BULK OF PEOPLE PROBABLY JUST RIDE TO WORK OR TO FROM NEARBY LOCATION\n",
    "# AS IS THE DESIGNED USE FOR CITIBIKE"
   ]
  },
  {
   "cell_type": "markdown",
   "metadata": {},
   "source": [
    "Fit to a Distribution"
   ]
  },
  {
   "cell_type": "code",
   "execution_count": 45,
   "metadata": {
    "collapsed": false
   },
   "outputs": [],
   "source": [
    "# Find a Distribution\n",
    "from scipy.stats import pareto, logistic, lognorm, betaprime, beta, f, expon, norm\n",
    "\n",
    "'''\n",
    "The process involves fitting a distribution to the sample data\n",
    "calculating the histogram (true distribution)\n",
    "calculating the pdf of the fitted theoretical distribution\n",
    "calculating the mean square error\n",
    "\n",
    "''';"
   ]
  },
  {
   "cell_type": "code",
   "execution_count": 49,
   "metadata": {
    "collapsed": false
   },
   "outputs": [],
   "source": [
    "# use x an y from previous histogram\n",
    "\n",
    "param_dic = {}\n",
    "pdf_df = pd.DataFrame({'x':x, 'y':y})\n",
    "\n",
    "for dist in [betaprime, beta, f]:\n",
    "    #fit distribution to our data\n",
    "    params = dist.fit(samp.tripduration) # this returns (*shapes, location, scale) \n",
    "                                # can be multiple shape parameters\n",
    "    \n",
    "    # pdf takes (x_values, *shape_params, location, scale)\n",
    "    pdf = dist.pdf(x, *params[:-2], loc = params[-2], scale = params[-1])\n",
    "\n",
    "    \n",
    "    # store the parameters and pdf results\n",
    "    param_dic[dist.name] = params\n",
    "    pdf_df[dist.name] = pdf"
   ]
  },
  {
   "cell_type": "code",
   "execution_count": 64,
   "metadata": {
    "collapsed": false
   },
   "outputs": [
    {
     "data": {
      "text/plain": [
       "betaprime    0.024470\n",
       "f            0.024471\n",
       "beta         0.024518\n",
       "dtype: float64"
      ]
     },
     "execution_count": 64,
     "metadata": {},
     "output_type": "execute_result"
    }
   ],
   "source": [
    "cols = [c for c in pdf_df if c not in ('x','y')]\n",
    "# calculate Sum of Squared Errors\n",
    "sse = pdf_df[cols].sub(pdf_df.y, axis = 0).pow(2).sum()\n",
    "\n",
    "sse.sort_values()"
   ]
  },
  {
   "cell_type": "code",
   "execution_count": 69,
   "metadata": {
    "collapsed": false
   },
   "outputs": [
    {
     "name": "stdout",
     "output_type": "stream",
     "text": [
      "('betaprime', 'firebrick')\n",
      "('beta', 'limegreen')\n",
      "('f', 'coral')\n"
     ]
    },
    {
     "data": {
      "text/plain": [
       "<matplotlib.legend.Legend at 0x15f4c5790>"
      ]
     },
     "execution_count": 69,
     "metadata": {},
     "output_type": "execute_result"
    },
    {
     "data": {
      "image/png": "[encoded data removed]",
      "text/plain": [
       "<matplotlib.figure.Figure at 0x1398a3190>"
      ]
     },
     "metadata": {},
     "output_type": "display_data"
    }
   ],
   "source": [
    "plt.figure(figsize = (9,6))\n",
    "plt.bar(x,y, width = 44);\n",
    "\n",
    "colors = ['firebrick','limegreen','coral', (115/255., 44/255., 123/255.)]\n",
    "c = 0\n",
    "\n",
    "\n",
    "\n",
    "for col in cols:\n",
    "    print(col,colors[c])\n",
    "    norm = y.sum()/pdf_df[col].sum()\n",
    "    plt.plot(x,pdf_df[col].values*norm, color = colors[c], label = col)\n",
    "    c+=1\n",
    "\n",
    "plt.legend()"
   ]
  },
  {
   "cell_type": "markdown",
   "metadata": {
    "collapsed": false
   },
   "source": [
    "### 3) Make a plot of the total number of trips per hour of the day."
   ]
  },
  {
   "cell_type": "code",
   "execution_count": 70,
   "metadata": {
    "collapsed": false
   },
   "outputs": [
    {
     "name": "stdout",
     "output_type": "stream",
     "text": [
      "(100000, 15)\n"
     ]
    }
   ],
   "source": [
    "samp = full_df.sample(100000)\n",
    "print(samp.shape)\n",
    "samp['starttime'] = pd.to_datetime(samp.starttime)\n",
    "samp['stoptime'] = pd.to_datetime(samp.stoptime)"
   ]
  },
  {
   "cell_type": "code",
   "execution_count": 71,
   "metadata": {
    "collapsed": false
   },
   "outputs": [
    {
     "data": {
      "text/plain": [
       "<matplotlib.text.Text at 0x17df60e50>"
      ]
     },
     "execution_count": 71,
     "metadata": {},
     "output_type": "execute_result"
    },
    {
     "data": {
      "image/png": "[encoded data removed]",
      "text/plain": [
       "<matplotlib.figure.Figure at 0x160944d90>"
      ]
     },
     "metadata": {},
     "output_type": "display_data"
    }
   ],
   "source": [
    "# Group by Hour and Plot\n",
    "byhour = samp.groupby(samp.starttime.dt.hour)\n",
    "sns.barplot(byhour.size().index, byhour.size()/byhour.size().sum(), palette = 'PuBuGn_d')\n",
    "fig =plt.gcf()\n",
    "fig.set_figheight(6)\n",
    "fig.set_figwidth(9)\n",
    "plt.ylabel('Percent of Rides')\n",
    "plt.title('Rides by Hour of the Day')\n",
    "\n",
    "# Most people ride to and from work - morning and eve rush hour (8-9am, 5-6pm)"
   ]
  },
  {
   "cell_type": "markdown",
   "metadata": {},
   "source": [
    "Examine Weekdays Vs Weekends"
   ]
  },
  {
   "cell_type": "code",
   "execution_count": 72,
   "metadata": {
    "collapsed": false,
    "scrolled": true
   },
   "outputs": [
    {
     "name": "stdout",
     "output_type": "stream",
     "text": [
      "76900 23100\n"
     ]
    }
   ],
   "source": [
    "# MONDAY = 0, SUNDAY = 6\n",
    "weekdays = samp[samp.starttime.dt.dayofweek < 5]\n",
    "weekends = samp[samp.starttime.dt.dayofweek >= 5]\n",
    "\n",
    "\n",
    "print weekdays.shape[0], weekends.shape[0]"
   ]
  },
  {
   "cell_type": "code",
   "execution_count": 73,
   "metadata": {
    "collapsed": false
   },
   "outputs": [
    {
     "data": {
      "text/plain": [
       "<matplotlib.text.Text at 0x17f7c4b10>"
      ]
     },
     "execution_count": 73,
     "metadata": {},
     "output_type": "execute_result"
    },
    {
     "data": {
      "image/png": "[encoded data removed]",
      "text/plain": [
       "<matplotlib.figure.Figure at 0x16b655d50>"
      ]
     },
     "metadata": {},
     "output_type": "display_data"
    }
   ],
   "source": [
    "# WEEKDAYS\n",
    "wdayByHour = weekdays.groupby(weekdays.starttime.dt.hour)\n",
    "sns.barplot(wdayByHour.size().index, wdayByHour.size()/wdayByHour.size().sum(), palette = 'PuBuGn_d')\n",
    "fig =plt.gcf()\n",
    "fig.set_figheight(6)\n",
    "fig.set_figwidth(9)\n",
    "plt.ylabel('Percent of Rides')\n",
    "plt.title('Rides by Hour of the Day For Weekdays')\n",
    "\n",
    "# The trend is exaggerated for weekdays "
   ]
  },
  {
   "cell_type": "code",
   "execution_count": 74,
   "metadata": {
    "collapsed": false
   },
   "outputs": [
    {
     "data": {
      "text/plain": [
       "<matplotlib.text.Text at 0x192c64c50>"
      ]
     },
     "execution_count": 74,
     "metadata": {},
     "output_type": "execute_result"
    },
    {
     "data": {
      "image/png": "[encoded data removed]",
      "text/plain": [
       "<matplotlib.figure.Figure at 0x16b655a90>"
      ]
     },
     "metadata": {},
     "output_type": "display_data"
    }
   ],
   "source": [
    "# WEEKENDS\n",
    "wdayByHour = weekends.groupby(weekends.starttime.dt.hour)\n",
    "sns.barplot(wdayByHour.size().index, wdayByHour.size()/wdayByHour.size().sum(), palette = 'PuBuGn_d')\n",
    "fig =plt.gcf()\n",
    "fig.set_figheight(6)\n",
    "fig.set_figwidth(9)\n",
    "plt.ylabel('Percent of Rides')\n",
    "plt.title('Rides by Hour of the Day For Weekdays')\n",
    "\n",
    "# And inverse for weekends"
   ]
  },
  {
   "cell_type": "markdown",
   "metadata": {
    "collapsed": true
   },
   "source": [
    "### 4) Mismatched end-->start locations\n",
    "\n",
    "There are instances where a bike's next trip originates from a different station than it was returned to for its most recent previous trip. What do you think causes this?\n"
   ]
  },
  {
   "cell_type": "code",
   "execution_count": 122,
   "metadata": {
    "collapsed": false,
    "scrolled": true
   },
   "outputs": [],
   "source": [
    "# converting to datetime objects takes far too long so i'm going to use\n",
    "# 3 months of data as a sample\n",
    "\n",
    "# samples can't be random since they would lose the mismatch information if they were\n",
    "# eg most bikes would start in different locations than they \"previously\" ended\n",
    "\n",
    "months = full_df.starttime.str.findall(r'(\\d+)/\\d+/\\d+\\s')\n",
    "months= months.map(lambda l: l[0])\n",
    "\n",
    "month_ixs = months[months.isin(['1','5','9'])].index\n",
    "\n",
    "samp = full_df.ix[month_ixs] \n",
    "samp['starttime'] = pd.to_datetime(samp.starttime)\n",
    "samp['stoptime'] = pd.to_datetime(samp.stoptime)"
   ]
  },
  {
   "cell_type": "code",
   "execution_count": 123,
   "metadata": {
    "collapsed": true
   },
   "outputs": [],
   "source": [
    "# save to pickle so I don't have to convert dates again\n",
    "with open('sampleMonths.pkl', 'wb') as f:\n",
    "    pickle.dump(samp, f, 2)"
   ]
  },
  {
   "cell_type": "code",
   "execution_count": 2,
   "metadata": {
    "collapsed": true
   },
   "outputs": [],
   "source": [
    "# Load from pickle\n",
    "with open('sampleMonths.pkl', 'rb') as f:\n",
    "    samp = pickle.load(f)"
   ]
  },
  {
   "cell_type": "code",
   "execution_count": 3,
   "metadata": {
    "collapsed": false
   },
   "outputs": [
    {
     "data": {
      "text/plain": [
       "(2491402, 15)"
      ]
     },
     "execution_count": 3,
     "metadata": {},
     "output_type": "execute_result"
    }
   ],
   "source": [
    "# (2491402, 15)\n",
    "samp.shape"
   ]
  },
  {
   "cell_type": "code",
   "execution_count": 4,
   "metadata": {
    "collapsed": false
   },
   "outputs": [],
   "source": [
    "# groupby bikeid and sort by time to get sequential rides on each bike\n",
    "bybike = samp.groupby('bikeid').apply(lambda v: v.sort_values('starttime')).drop('bikeid',axis =1).reset_index(0)\n",
    "\n",
    "#shift bikeid, end station, and end_times for sequential comparisons\n",
    "bybike['prev_bikeid'] = bybike.bikeid.shift(1)\n",
    "# prevent overlapping ids\n",
    "bybike.loc[bybike.prev_bikeid != bybike.bikeid, 'prev_bikeid'] = np.nan\n",
    "# same for end station\n",
    "bybike['prev_end_station_id'] = bybike['end station id'].shift(1)\n",
    "bybike.loc[bybike.prev_bikeid.isnull(), 'prev_end_station_id'] = np.nan\n",
    "\n",
    "# same for stoptime\n",
    "bybike['prev_stoptime'] = bybike.stoptime.shift(1)\n",
    "bybike.loc[bybike.prev_bikeid.isnull(), 'prev_stoptime'] = np.nan\n",
    "\n",
    "\n"
   ]
  },
  {
   "cell_type": "code",
   "execution_count": 5,
   "metadata": {
    "collapsed": false
   },
   "outputs": [
    {
     "data": {
      "text/plain": [
       "(177780, 18)"
      ]
     },
     "execution_count": 5,
     "metadata": {},
     "output_type": "execute_result"
    }
   ],
   "source": [
    "# now select rows where prev_end_station does not equal start station\n",
    "\n",
    "mismatch = bybike[(bybike.prev_end_station_id != bybike['start station id']) & (~bybike.prev_bikeid.isnull())]\n",
    "\n",
    "# about 8% are mismatches\n",
    "mismatch.shape"
   ]
  },
  {
   "cell_type": "markdown",
   "metadata": {},
   "source": [
    "Explore the Mismatches"
   ]
  },
  {
   "cell_type": "code",
   "execution_count": 6,
   "metadata": {
    "collapsed": false,
    "scrolled": true
   },
   "outputs": [
    {
     "name": "stdout",
     "output_type": "stream",
     "text": [
      "Avg Num Mismatches per Bike: 21.6857770188\n"
     ]
    },
    {
     "data": {
      "text/plain": [
       "<matplotlib.axes._subplots.AxesSubplot at 0x15d9e7790>"
      ]
     },
     "execution_count": 6,
     "metadata": {},
     "output_type": "execute_result"
    },
    {
     "data": {
      "image/png": "[encoded data removed]",
      "text/plain": [
       "<matplotlib.figure.Figure at 0x15d9e7ad0>"
      ]
     },
     "metadata": {},
     "output_type": "display_data"
    }
   ],
   "source": [
    "print 'Avg Num Mismatches per Bike:', mismatch.groupby('bikeid').size().mean()\n",
    "\n",
    "mismatch.groupby('bikeid').size().hist()"
   ]
  },
  {
   "cell_type": "markdown",
   "metadata": {},
   "source": [
    "Mismatches by day of the week and time of day\n"
   ]
  },
  {
   "cell_type": "code",
   "execution_count": 7,
   "metadata": {
    "collapsed": false
   },
   "outputs": [
    {
     "name": "stdout",
     "output_type": "stream",
     "text": [
      "Percent of reappearances that happen on a weekday: 0.79\n"
     ]
    }
   ],
   "source": [
    "\n",
    "# MONDAY = 0, SUNDAY = 6\n",
    "weekdays = mismatch[mismatch.starttime.dt.dayofweek < 5]\n",
    "weekends = mismatch[mismatch.starttime.dt.dayofweek >= 5]\n",
    "\n",
    "# ~80% happen during the week implying slight bias to the weekdays. EG 4:1 instead of 5:2\n",
    "print \"Percent of reappearances that happen on a weekday:\", np.round(weekdays.shape[0]/float(len(mismatch)),2)\n"
   ]
  },
  {
   "cell_type": "code",
   "execution_count": 8,
   "metadata": {
    "collapsed": false
   },
   "outputs": [
    {
     "data": {
      "text/plain": [
       "[<matplotlib.text.Text at 0x14b54cad0>,\n",
       " <matplotlib.text.Text at 0x14b57eed0>,\n",
       " <matplotlib.text.Text at 0x150abea50>,\n",
       " <matplotlib.text.Text at 0x150dcf210>,\n",
       " <matplotlib.text.Text at 0x150dcf990>,\n",
       " <matplotlib.text.Text at 0x150de0150>,\n",
       " <matplotlib.text.Text at 0x150de08d0>]"
      ]
     },
     "execution_count": 8,
     "metadata": {},
     "output_type": "execute_result"
    },
    {
     "data": {
      "image/png": "[encoded data removed]",
      "text/plain": [
       "<matplotlib.figure.Figure at 0x14b5d77d0>"
      ]
     },
     "metadata": {},
     "output_type": "display_data"
    }
   ],
   "source": [
    "# Confirmed by looking at mismatches by DOW\n",
    "# No serious bias for a given day\n",
    "ax = mismatch.groupby(mismatch.starttime.dt.dayofweek).size().plot(kind='bar')\n",
    "ax.set_xticklabels(['Mon','Tues','Weds','Thurs','Fri','Sat','Sun'], rotation = 0)"
   ]
  },
  {
   "cell_type": "code",
   "execution_count": 9,
   "metadata": {
    "collapsed": false
   },
   "outputs": [
    {
     "name": "stderr",
     "output_type": "stream",
     "text": [
      "/Users/RickS/Library/Enthought/Canopy_64bit/User/lib/python2.7/site-packages/ipykernel/__main__.py:2: SettingWithCopyWarning: \n",
      "A value is trying to be set on a copy of a slice from a DataFrame.\n",
      "Try using .loc[row_indexer,col_indexer] = value instead\n",
      "\n",
      "See the caveats in the documentation: http://pandas.pydata.org/pandas-docs/stable/indexing.html#indexing-view-versus-copy\n",
      "  from ipykernel import kernelapp as app\n"
     ]
    }
   ],
   "source": [
    "# Look at difference in start time and previous end time for mismatches\n",
    "mismatch['time_diff'] = mismatch.starttime - mismatch.prev_stoptime"
   ]
  },
  {
   "cell_type": "code",
   "execution_count": 10,
   "metadata": {
    "collapsed": false
   },
   "outputs": [
    {
     "name": "stdout",
     "output_type": "stream",
     "text": [
      "Avg bike-disappearance time: 5 days 23:53:43.755011\n",
      "Median bike-disappearance time: 0 days 10:13:49\n",
      "\n",
      "Largest time gaps between bike reappearance:\n"
     ]
    },
    {
     "data": {
      "text/plain": [
       "6625451   262 days 23:30:23\n",
       "5654148   242 days 13:52:24\n",
       "6847267   241 days 12:46:10\n",
       "5658204   239 days 23:30:12\n",
       "6048590   239 days 04:58:27\n",
       "5647493   238 days 23:05:28\n",
       "5647199   238 days 20:18:45\n",
       "6480421   238 days 20:12:58\n",
       "6616098   236 days 14:28:20\n",
       "5647872   234 days 22:29:46\n",
       "Name: time_diff, dtype: timedelta64[ns]"
      ]
     },
     "execution_count": 10,
     "metadata": {},
     "output_type": "execute_result"
    }
   ],
   "source": [
    "# Average time between mismatches\n",
    "print 'Avg bike-disappearance time:',mismatch.time_diff.mean()\n",
    "# Median time between mismatches\n",
    "print 'Median bike-disappearance time:',mismatch.time_diff.median()\n",
    "\n",
    "# I'm taking the median because the mean is dragged up by some very heavy outliers\n",
    "print\n",
    "print \"Largest time gaps between bike reappearance:\"\n",
    "mismatch.time_diff.nlargest(10)"
   ]
  },
  {
   "cell_type": "code",
   "execution_count": 11,
   "metadata": {
    "collapsed": false
   },
   "outputs": [
    {
     "name": "stdout",
     "output_type": "stream",
     "text": [
      "(2313622, 18)\n",
      "Avg time inactive: 0 days 03:04:56.917613\n",
      "Median time inactive: 0 days 00:30:47\n"
     ]
    }
   ],
   "source": [
    "# Compare our station-mismatched bikes to the rest of the bikes \n",
    "# we see that normally functioning bikes are generally inactive for a much shorter period of time\n",
    "\n",
    "\n",
    "normal = bybike[~bybike.index.isin(mismatch.index)]\n",
    "print normal.shape\n",
    "assert normal.shape[0] + mismatch.shape[0] == bybike.shape[0]\n",
    "# The average inactivity for normal functioning bikes is about 3 hours\n",
    "print 'Avg time inactive:',(normal.starttime - normal.prev_stoptime).mean()\n",
    "\n",
    "\n",
    "# However this is being dragged up by some outliers as well and the median time is actually significantly lower still.\n",
    "print 'Median time inactive:',(normal.starttime - normal.prev_stoptime).median()\n"
   ]
  },
  {
   "cell_type": "markdown",
   "metadata": {},
   "source": [
    "My conclusion on the matter is that bikes that stop at one station and then \"mysteriously\" appear at another station are most likely being worked on. The median time a bike is generally inactive for is about 30 minutes, which is much shorter than the median time of 10 hours for bikes that start at a different staion than they last ended. "
   ]
  },
  {
   "cell_type": "markdown",
   "metadata": {},
   "source": [
    "### 5) Build A Model"
   ]
  },
  {
   "cell_type": "markdown",
   "metadata": {
    "collapsed": true
   },
   "source": [
    "What makes people want to go ride a bike?\n",
    "    - Work nearby\n",
    "        o Density of Office Buildings \n",
    "        o Proximity to Residential \n",
    "    - Weather\n",
    "    - Season (Tourism)\n",
    "    - Train Delays\n",
    "    - Healthy People\n",
    "    - Education Level\n",
    "    - Income Level"
   ]
  },
  {
   "cell_type": "markdown",
   "metadata": {},
   "source": [
    "Before we build a model, lets explore the data a little more"
   ]
  },
  {
   "cell_type": "markdown",
   "metadata": {},
   "source": [
    "For Example: What are the busiest stations of the year?"
   ]
  },
  {
   "cell_type": "code",
   "execution_count": 21,
   "metadata": {
    "collapsed": false,
    "scrolled": true
   },
   "outputs": [
    {
     "data": {
      "text/html": [
       "<div>\n",
       "<table border=\"1\" class=\"dataframe\">\n",
       "  <thead>\n",
       "    <tr style=\"text-align: right;\">\n",
       "      <th></th>\n",
       "      <th>start station name</th>\n",
       "    </tr>\n",
       "    <tr>\n",
       "      <th>start station id</th>\n",
       "      <th></th>\n",
       "    </tr>\n",
       "  </thead>\n",
       "  <tbody>\n",
       "    <tr>\n",
       "      <th>521</th>\n",
       "      <td>8 Ave &amp; W 31 St</td>\n",
       "    </tr>\n",
       "    <tr>\n",
       "      <th>519</th>\n",
       "      <td>Pershing Square North</td>\n",
       "    </tr>\n",
       "    <tr>\n",
       "      <th>293</th>\n",
       "      <td>Lafayette St &amp; E 8 St</td>\n",
       "    </tr>\n",
       "    <tr>\n",
       "      <th>435</th>\n",
       "      <td>W 21 St &amp; 6 Ave</td>\n",
       "    </tr>\n",
       "    <tr>\n",
       "      <th>497</th>\n",
       "      <td>E 17 St &amp; Broadway</td>\n",
       "    </tr>\n",
       "    <tr>\n",
       "      <th>426</th>\n",
       "      <td>West St &amp; Chambers St</td>\n",
       "    </tr>\n",
       "    <tr>\n",
       "      <th>285</th>\n",
       "      <td>Broadway &amp; E 14 St</td>\n",
       "    </tr>\n",
       "    <tr>\n",
       "      <th>151</th>\n",
       "      <td>Cleveland Pl &amp; Spring St</td>\n",
       "    </tr>\n",
       "    <tr>\n",
       "      <th>284</th>\n",
       "      <td>Greenwich Ave &amp; 8 Ave</td>\n",
       "    </tr>\n",
       "    <tr>\n",
       "      <th>327</th>\n",
       "      <td>Vesey Pl &amp; River Terrace</td>\n",
       "    </tr>\n",
       "  </tbody>\n",
       "</table>\n",
       "</div>"
      ],
      "text/plain": [
       "                        start station name\n",
       "start station id                          \n",
       "521                        8 Ave & W 31 St\n",
       "519                  Pershing Square North\n",
       "293                  Lafayette St & E 8 St\n",
       "435                        W 21 St & 6 Ave\n",
       "497                     E 17 St & Broadway\n",
       "426                  West St & Chambers St\n",
       "285                     Broadway & E 14 St\n",
       "151               Cleveland Pl & Spring St\n",
       "284                  Greenwich Ave & 8 Ave\n",
       "327               Vesey Pl & River Terrace"
      ]
     },
     "execution_count": 21,
     "metadata": {},
     "output_type": "execute_result"
    }
   ],
   "source": [
    "# Map station ids to name\n",
    "stnID_name = samp[['start station id', 'start station name']].drop_duplicates('start station id').sort_values('start station id')\n",
    "stnID_name.set_index('start station id', inplace=True)\n",
    "\n",
    "# MOST USED STATIONS\n",
    "stnID_name.ix[samp.groupby('start station id').size().nlargest(10).index]"
   ]
  },
  {
   "cell_type": "code",
   "execution_count": 32,
   "metadata": {
    "collapsed": false
   },
   "outputs": [
    {
     "data": {
      "text/plain": [
       "<matplotlib.text.Text at 0x1b3beb410>"
      ]
     },
     "execution_count": 32,
     "metadata": {},
     "output_type": "execute_result"
    },
    {
     "data": {
      "image/png": "[encoded data removed]",
      "text/plain": [
       "<matplotlib.figure.Figure at 0x1b2dd8f10>"
      ]
     },
     "metadata": {},
     "output_type": "display_data"
    }
   ],
   "source": [
    "plt.plot(samp.groupby('start station id').size().nlargest(10).values)\n",
    "plt.xlabel(\"Station\")\n",
    "plt.ylabel('Total Rides')\n",
    "plt.title('Number of Rides in 2015 for the top 10 stations')"
   ]
  },
  {
   "cell_type": "markdown",
   "metadata": {},
   "source": [
    "## Collecting Data for Model:"
   ]
  },
  {
   "cell_type": "markdown",
   "metadata": {},
   "source": [
    "### Residential Vs Commercial Districts\n",
    "\n",
    "Since nyc is divided into various types of zoning districts, I'm going to find which district each station lies in to see if it's residential or commercial.\n",
    "\n",
    "First, I'm going to get official addresses for our stations using geopy as well as convert our lat long coords into shapely geometry points."
   ]
  },
  {
   "cell_type": "code",
   "execution_count": 13,
   "metadata": {
    "collapsed": false
   },
   "outputs": [],
   "source": [
    "# unique lat-long coords\n",
    "lat_long = samp[~samp[['start station latitude', 'start station longitude']].duplicated()][['start station id','start station name','start station latitude', 'start station longitude']]\n",
    "\n",
    "from geopy.geocoders import Nominatim\n",
    "geo = Nominatim()\n",
    "\n",
    "# Convert lat-long to geopy addresses\n",
    "# save progress in this dictionary\n",
    "station_locs = {}"
   ]
  },
  {
   "cell_type": "code",
   "execution_count": null,
   "metadata": {
    "collapsed": false,
    "scrolled": true
   },
   "outputs": [],
   "source": [
    "# geopy needs a string\n",
    "lat_long['lat_long'] = lat_long['start station latitude'].map(str) +', '+ lat_long['start station longitude'].map(str)\n",
    "\n",
    "for idx in lat_long.index:\n",
    "    if lat_long.ix[idx, 'start station id'] in station_locs:\n",
    "        continue\n",
    "    station_locs[lat_long.ix[idx, 'start station id']] = geo.reverse(lat_long.ix[idx, 'lat_long']).address"
   ]
  },
  {
   "cell_type": "code",
   "execution_count": 5,
   "metadata": {
    "collapsed": false
   },
   "outputs": [
    {
     "data": {
      "text/plain": [
       "459"
      ]
     },
     "execution_count": 5,
     "metadata": {},
     "output_type": "execute_result"
    }
   ],
   "source": [
    "len(station_locs)"
   ]
  },
  {
   "cell_type": "code",
   "execution_count": null,
   "metadata": {
    "collapsed": true
   },
   "outputs": [],
   "source": [
    "with open('station_locs.pkl', 'wb') as f:\n",
    "    pickle.dump(station_locs, f, 2)"
   ]
  },
  {
   "cell_type": "code",
   "execution_count": 4,
   "metadata": {
    "collapsed": true
   },
   "outputs": [],
   "source": [
    "with open('station_locs.pkl', 'rb') as f:\n",
    "    station_locs = pickle.load(f)"
   ]
  },
  {
   "cell_type": "code",
   "execution_count": 6,
   "metadata": {
    "collapsed": false
   },
   "outputs": [],
   "source": [
    "# Move results back to samp data frame\n",
    "\n",
    "# geopandas is longitude, latitude\n",
    "samp['lat_long'] = zip(samp['start station longitude'].values, samp['start station latitude'].values)\n",
    "samp['address'] = samp['start station id'].map(station_locs)\n",
    "samp['zipcode'] = samp.address.str.findall(r'\\d{5}').map(lambda t:t[0] if len(t)>0 else np.nan)\n",
    "# typo for washington sq park\n",
    "samp.ix[samp.zipcode.isnull(), 'zipcode'] = 10011\n",
    "\n",
    "\n",
    "# and convert to shapely geometry points\n",
    "samp['geo_points'] = samp.lat_long.map(geom.Point)"
   ]
  },
  {
   "cell_type": "markdown",
   "metadata": {},
   "source": [
    "Aquire zoning dimensions from: https://data.cityofnewyork.us/City-Government/Zoning-GIS-Data-Shapefile/kdig-pewd"
   ]
  },
  {
   "cell_type": "code",
   "execution_count": 8,
   "metadata": {
    "collapsed": false
   },
   "outputs": [
    {
     "data": {
      "text/plain": [
       "(15714, 20)"
      ]
     },
     "execution_count": 8,
     "metadata": {},
     "output_type": "execute_result"
    }
   ],
   "source": [
    "zoning_data = gpd.read_file('Zoning GIS Data- Shapefile.geojson')\n",
    "zoning_data.shape"
   ]
  },
  {
   "cell_type": "code",
   "execution_count": 9,
   "metadata": {
    "collapsed": false,
    "scrolled": true
   },
   "outputs": [
    {
     "name": "stdout",
     "output_type": "stream",
     "text": [
      "(2491402, 19)\n",
      "(15714, 20)\n"
     ]
    }
   ],
   "source": [
    "# Now we want to map each bike location to a zone\n",
    "print samp.shape\n",
    "print zoning_data.shape\n",
    "\n",
    "#overlay, zonedist\n",
    "\n",
    "# this is going to map citibike station ids to zoning index\n",
    "loc_zone = {}\n",
    "for i in samp.index:\n",
    "    if samp.ix[i, 'start station id'] in loc_zone:\n",
    "        continue\n",
    "    loc_zone[samp.ix[i, 'start station id']] = zoning_data[(zoning_data.geometry.contains(samp.ix[i, 'geo_points'])) & (~zoning_data.zonedist.isnull())].index\n",
    "    \n",
    "\n",
    "\n",
    "samp['zoning_idx'] = samp['start station id'].map(loc_zone)   \n",
    "\n",
    "# change the type from an index object to an int\n",
    "samp['zoning_idx'] = samp.zoning_idx.map(lambda i: list(i)[0])"
   ]
  },
  {
   "cell_type": "markdown",
   "metadata": {},
   "source": [
    "Combine the two so we now have a zone type for each bike station\n",
    "\n",
    "The zone types are \n",
    "    - Residential\n",
    "    - Commercial\n",
    "    - Manufacturing\n",
    "    - Park\n",
    "    - Battery Park (bpc)"
   ]
  },
  {
   "cell_type": "code",
   "execution_count": null,
   "metadata": {
    "collapsed": false,
    "scrolled": false
   },
   "outputs": [],
   "source": [
    "merged = pd.merge(samp, zoning_data[['zonedist']], left_on='zoning_idx', right_index = True)\n",
    "merged['zone_type'] = merged.zonedist.map(lambda z: z[0] if z != 'PARK' else z)\n",
    "\n",
    "# make sure zipcode is an integer\n",
    "merged['zipcode'] = merged.zipcode.astype('int64')\n",
    "\n",
    "merged.shape"
   ]
  },
  {
   "cell_type": "code",
   "execution_count": 26,
   "metadata": {
    "collapsed": false
   },
   "outputs": [],
   "source": [
    "with open('merged.pkl', 'wb') as f:\n",
    "    pickle.dump(merged,f,2)"
   ]
  },
  {
   "cell_type": "code",
   "execution_count": 10,
   "metadata": {
    "collapsed": false
   },
   "outputs": [
    {
     "data": {
      "text/plain": [
       "(2491402, 22)"
      ]
     },
     "execution_count": 10,
     "metadata": {},
     "output_type": "execute_result"
    }
   ],
   "source": [
    "with open('merged.pkl', 'rb') as f:\n",
    "    merged = pickle.load(f)\n",
    "    \n",
    "merged.shape"
   ]
  },
  {
   "cell_type": "markdown",
   "metadata": {},
   "source": [
    "### Population By Community District\n",
    "\n",
    "Population is available on the Community District level from Nyc Open Data"
   ]
  },
  {
   "cell_type": "code",
   "execution_count": 36,
   "metadata": {
    "collapsed": false
   },
   "outputs": [
    {
     "data": {
      "text/plain": [
       "(71, 4)"
      ]
     },
     "execution_count": 36,
     "metadata": {},
     "output_type": "execute_result"
    }
   ],
   "source": [
    "# Geographical data for all the community districts, so we know where each district actually is.\n",
    "cds = gpd.read_file(\"Community Districts.geojson\")\n",
    "cds.shape"
   ]
  },
  {
   "cell_type": "code",
   "execution_count": 37,
   "metadata": {
    "collapsed": true
   },
   "outputs": [],
   "source": [
    "# Populations for each district\n",
    "pops = pd.read_csv('New_York_City_Population_By_Community_Districts.csv')\n",
    "\n",
    "boro_map = {'Manhattan':'1', 'Bronx':'2',  'Brooklyn':'3', 'Queens':'4', \"Staten Island\":'5'}\n",
    "pops['CD_ID'] = pops.Borough.map(boro_map) + pops['CD Number'].astype(str).str.zfill(2)"
   ]
  },
  {
   "cell_type": "code",
   "execution_count": 38,
   "metadata": {
    "collapsed": true
   },
   "outputs": [],
   "source": [
    "# Add Community Districts to our dataframe so that we can merge with populations\n",
    "stn_cd = {}"
   ]
  },
  {
   "cell_type": "code",
   "execution_count": 39,
   "metadata": {
    "collapsed": false
   },
   "outputs": [],
   "source": [
    "for i in merged.drop_duplicates('start station id').index:\n",
    "    if merged.ix[i, 'start station id'] in stn_cd:\n",
    "        continue\n",
    "    stn_cd[merged.ix[i, 'start station id']] = cds[cds.geometry.contains(merged.ix[i, 'geo_points'])].boro_cd.values[0]"
   ]
  },
  {
   "cell_type": "code",
   "execution_count": 40,
   "metadata": {
    "collapsed": false,
    "scrolled": true
   },
   "outputs": [
    {
     "data": {
      "text/html": [
       "<div>\n",
       "<table border=\"1\" class=\"dataframe\">\n",
       "  <thead>\n",
       "    <tr style=\"text-align: right;\">\n",
       "      <th></th>\n",
       "      <th>tripduration</th>\n",
       "      <th>starttime</th>\n",
       "      <th>stoptime</th>\n",
       "      <th>start station id</th>\n",
       "      <th>start station name</th>\n",
       "      <th>start station latitude</th>\n",
       "      <th>start station longitude</th>\n",
       "      <th>end station id</th>\n",
       "      <th>end station name</th>\n",
       "      <th>end station latitude</th>\n",
       "      <th>...</th>\n",
       "      <th>birth year</th>\n",
       "      <th>gender</th>\n",
       "      <th>lat_long</th>\n",
       "      <th>address</th>\n",
       "      <th>zipcode</th>\n",
       "      <th>geo_points</th>\n",
       "      <th>zoning_idx</th>\n",
       "      <th>zonedist</th>\n",
       "      <th>zone_type</th>\n",
       "      <th>CD</th>\n",
       "    </tr>\n",
       "  </thead>\n",
       "  <tbody>\n",
       "    <tr>\n",
       "      <th>0</th>\n",
       "      <td>1346</td>\n",
       "      <td>2015-01-01 00:01:00</td>\n",
       "      <td>2015-01-01 00:24:00</td>\n",
       "      <td>455</td>\n",
       "      <td>1 Ave &amp; E 44 St</td>\n",
       "      <td>40.750020</td>\n",
       "      <td>-73.969053</td>\n",
       "      <td>265</td>\n",
       "      <td>Stanton St &amp; Chrystie St</td>\n",
       "      <td>40.722293</td>\n",
       "      <td>...</td>\n",
       "      <td>1960.0</td>\n",
       "      <td>2</td>\n",
       "      <td>(-73.96905301, 40.75001986)</td>\n",
       "      <td>Citi Bike - 1 Ave &amp; E 44 St, 1st Avenue Tunnel...</td>\n",
       "      <td>10017</td>\n",
       "      <td>POINT (-73.96905301 40.75001986)</td>\n",
       "      <td>14720</td>\n",
       "      <td>C5-2</td>\n",
       "      <td>C</td>\n",
       "      <td>106</td>\n",
       "    </tr>\n",
       "    <tr>\n",
       "      <th>369</th>\n",
       "      <td>133</td>\n",
       "      <td>2015-01-01 02:42:00</td>\n",
       "      <td>2015-01-01 02:44:00</td>\n",
       "      <td>2017</td>\n",
       "      <td>E 43 St &amp; 2 Ave</td>\n",
       "      <td>40.750224</td>\n",
       "      <td>-73.971214</td>\n",
       "      <td>518</td>\n",
       "      <td>E 39 St &amp; 2 Ave</td>\n",
       "      <td>40.747804</td>\n",
       "      <td>...</td>\n",
       "      <td>1984.0</td>\n",
       "      <td>1</td>\n",
       "      <td>(-73.97121414, 40.75022392)</td>\n",
       "      <td>Citi Bike - E 43 St &amp; 2 Ave, East 43rd Street,...</td>\n",
       "      <td>10017</td>\n",
       "      <td>POINT (-73.97121414 40.75022392)</td>\n",
       "      <td>14720</td>\n",
       "      <td>C5-2</td>\n",
       "      <td>C</td>\n",
       "      <td>106</td>\n",
       "    </tr>\n",
       "    <tr>\n",
       "      <th>447</th>\n",
       "      <td>1198</td>\n",
       "      <td>2015-01-01 03:15:00</td>\n",
       "      <td>2015-01-01 03:35:00</td>\n",
       "      <td>2017</td>\n",
       "      <td>E 43 St &amp; 2 Ave</td>\n",
       "      <td>40.750224</td>\n",
       "      <td>-73.971214</td>\n",
       "      <td>342</td>\n",
       "      <td>Columbia St &amp; Rivington St</td>\n",
       "      <td>40.717400</td>\n",
       "      <td>...</td>\n",
       "      <td>1983.0</td>\n",
       "      <td>2</td>\n",
       "      <td>(-73.97121414, 40.75022392)</td>\n",
       "      <td>Citi Bike - E 43 St &amp; 2 Ave, East 43rd Street,...</td>\n",
       "      <td>10017</td>\n",
       "      <td>POINT (-73.97121414 40.75022392)</td>\n",
       "      <td>14720</td>\n",
       "      <td>C5-2</td>\n",
       "      <td>C</td>\n",
       "      <td>106</td>\n",
       "    </tr>\n",
       "    <tr>\n",
       "      <th>591</th>\n",
       "      <td>474</td>\n",
       "      <td>2015-01-01 06:53:00</td>\n",
       "      <td>2015-01-01 07:01:00</td>\n",
       "      <td>2017</td>\n",
       "      <td>E 43 St &amp; 2 Ave</td>\n",
       "      <td>40.750224</td>\n",
       "      <td>-73.971214</td>\n",
       "      <td>164</td>\n",
       "      <td>E 47 St &amp; 2 Ave</td>\n",
       "      <td>40.753231</td>\n",
       "      <td>...</td>\n",
       "      <td>1954.0</td>\n",
       "      <td>1</td>\n",
       "      <td>(-73.97121414, 40.75022392)</td>\n",
       "      <td>Citi Bike - E 43 St &amp; 2 Ave, East 43rd Street,...</td>\n",
       "      <td>10017</td>\n",
       "      <td>POINT (-73.97121414 40.75022392)</td>\n",
       "      <td>14720</td>\n",
       "      <td>C5-2</td>\n",
       "      <td>C</td>\n",
       "      <td>106</td>\n",
       "    </tr>\n",
       "    <tr>\n",
       "      <th>990</th>\n",
       "      <td>976</td>\n",
       "      <td>2015-01-01 10:45:00</td>\n",
       "      <td>2015-01-01 11:01:00</td>\n",
       "      <td>2017</td>\n",
       "      <td>E 43 St &amp; 2 Ave</td>\n",
       "      <td>40.750224</td>\n",
       "      <td>-73.971214</td>\n",
       "      <td>402</td>\n",
       "      <td>Broadway &amp; E 22 St</td>\n",
       "      <td>40.740343</td>\n",
       "      <td>...</td>\n",
       "      <td>1959.0</td>\n",
       "      <td>1</td>\n",
       "      <td>(-73.97121414, 40.75022392)</td>\n",
       "      <td>Citi Bike - E 43 St &amp; 2 Ave, East 43rd Street,...</td>\n",
       "      <td>10017</td>\n",
       "      <td>POINT (-73.97121414 40.75022392)</td>\n",
       "      <td>14720</td>\n",
       "      <td>C5-2</td>\n",
       "      <td>C</td>\n",
       "      <td>106</td>\n",
       "    </tr>\n",
       "  </tbody>\n",
       "</table>\n",
       "<p>5 rows × 23 columns</p>\n",
       "</div>"
      ],
      "text/plain": [
       "     tripduration           starttime            stoptime  start station id  \\\n",
       "0            1346 2015-01-01 00:01:00 2015-01-01 00:24:00               455   \n",
       "369           133 2015-01-01 02:42:00 2015-01-01 02:44:00              2017   \n",
       "447          1198 2015-01-01 03:15:00 2015-01-01 03:35:00              2017   \n",
       "591           474 2015-01-01 06:53:00 2015-01-01 07:01:00              2017   \n",
       "990           976 2015-01-01 10:45:00 2015-01-01 11:01:00              2017   \n",
       "\n",
       "    start station name  start station latitude  start station longitude  \\\n",
       "0      1 Ave & E 44 St               40.750020               -73.969053   \n",
       "369    E 43 St & 2 Ave               40.750224               -73.971214   \n",
       "447    E 43 St & 2 Ave               40.750224               -73.971214   \n",
       "591    E 43 St & 2 Ave               40.750224               -73.971214   \n",
       "990    E 43 St & 2 Ave               40.750224               -73.971214   \n",
       "\n",
       "     end station id            end station name  end station latitude ...   \\\n",
       "0               265    Stanton St & Chrystie St             40.722293 ...    \n",
       "369             518             E 39 St & 2 Ave             40.747804 ...    \n",
       "447             342  Columbia St & Rivington St             40.717400 ...    \n",
       "591             164             E 47 St & 2 Ave             40.753231 ...    \n",
       "990             402          Broadway & E 22 St             40.740343 ...    \n",
       "\n",
       "     birth year  gender                     lat_long  \\\n",
       "0        1960.0       2  (-73.96905301, 40.75001986)   \n",
       "369      1984.0       1  (-73.97121414, 40.75022392)   \n",
       "447      1983.0       2  (-73.97121414, 40.75022392)   \n",
       "591      1954.0       1  (-73.97121414, 40.75022392)   \n",
       "990      1959.0       1  (-73.97121414, 40.75022392)   \n",
       "\n",
       "                                               address  zipcode  \\\n",
       "0    Citi Bike - 1 Ave & E 44 St, 1st Avenue Tunnel...    10017   \n",
       "369  Citi Bike - E 43 St & 2 Ave, East 43rd Street,...    10017   \n",
       "447  Citi Bike - E 43 St & 2 Ave, East 43rd Street,...    10017   \n",
       "591  Citi Bike - E 43 St & 2 Ave, East 43rd Street,...    10017   \n",
       "990  Citi Bike - E 43 St & 2 Ave, East 43rd Street,...    10017   \n",
       "\n",
       "                           geo_points zoning_idx  zonedist zone_type   CD  \n",
       "0    POINT (-73.96905301 40.75001986)      14720      C5-2         C  106  \n",
       "369  POINT (-73.97121414 40.75022392)      14720      C5-2         C  106  \n",
       "447  POINT (-73.97121414 40.75022392)      14720      C5-2         C  106  \n",
       "591  POINT (-73.97121414 40.75022392)      14720      C5-2         C  106  \n",
       "990  POINT (-73.97121414 40.75022392)      14720      C5-2         C  106  \n",
       "\n",
       "[5 rows x 23 columns]"
      ]
     },
     "execution_count": 40,
     "metadata": {},
     "output_type": "execute_result"
    }
   ],
   "source": [
    "merged['CD'] = merged['start station id'].map(stn_cd)\n",
    "merged.head()"
   ]
  },
  {
   "cell_type": "markdown",
   "metadata": {},
   "source": [
    "District 164 represents central park, which does not have a given population statistic. Therefore i'm going to reasign the stations that fall within this district to their nearest community district with a given population"
   ]
  },
  {
   "cell_type": "code",
   "execution_count": 41,
   "metadata": {
    "collapsed": true
   },
   "outputs": [],
   "source": [
    "# For stations on CPW i'm going to assign the population data for District 107 \n",
    "# which corresponds to the west side between 59th st and 110th\n",
    "merged.loc[merged['start station name'].isin(['Central Park West & W 68 St',\n",
    "                           'Central Park West & W 76 St', 'Central Park West & W 72 St']), 'CD'] = '107'\n",
    "\n",
    "\n",
    "# The two stations on the east side are nearest to CD 108 which extends from ~ 59th - 86th st on the east side\n",
    "merged.loc[merged['start station name'].isin(['5 Ave & E 63 St', '5 Ave & E 73 St']), 'CD'] = '108'\n",
    "\n",
    "\n",
    "# CPS and 6th ave is nearest to district 105\n",
    "merged.loc[merged['start station name'] == 'Central Park S & 6 Ave', 'CD'] = '105'"
   ]
  },
  {
   "cell_type": "code",
   "execution_count": 42,
   "metadata": {
    "collapsed": false
   },
   "outputs": [
    {
     "name": "stdout",
     "output_type": "stream",
     "text": [
      "(2491402, 23)\n",
      "(59, 9)\n",
      "(2491402, 32)\n"
     ]
    }
   ],
   "source": [
    "print merged.shape\n",
    "print pops.shape\n",
    "\n",
    "merged1 = pd.merge(merged, pops, left_on='CD', right_on = 'CD_ID')\n",
    "print merged1.shape"
   ]
  },
  {
   "cell_type": "markdown",
   "metadata": {},
   "source": [
    "### Demographics by Zipcode\n",
    "\n",
    "Lets include some ethnicity and gender demographics for the corresponding zipcode to each bike staiton."
   ]
  },
  {
   "cell_type": "code",
   "execution_count": 43,
   "metadata": {
    "collapsed": false
   },
   "outputs": [
    {
     "data": {
      "text/plain": [
       "(236, 11)"
      ]
     },
     "execution_count": 43,
     "metadata": {},
     "output_type": "execute_result"
    }
   ],
   "source": [
    "demographics = pd.read_csv('Zip_code_breakdowns.csv', usecols=['JURISDICTION NAME','COUNT PARTICIPANTS','PERCENT FEMALE', 'PERCENT MALE','PERCENT PACIFIC ISLANDER','PERCENT HISPANIC LATINO', 'PERCENT AMERICAN INDIAN',\n",
    "'PERCENT ASIAN NON HISPANIC','PERCENT WHITE NON HISPANIC', 'PERCENT BLACK NON HISPANIC', 'PERCENT OTHER ETHNICITY'])\n",
    "demographics.shape"
   ]
  },
  {
   "cell_type": "code",
   "execution_count": 44,
   "metadata": {
    "collapsed": false
   },
   "outputs": [
    {
     "data": {
      "text/plain": [
       "(2491402, 43)"
      ]
     },
     "execution_count": 44,
     "metadata": {},
     "output_type": "execute_result"
    }
   ],
   "source": [
    "merged2 = pd.merge(merged1, demographics, left_on='zipcode', right_on='JURISDICTION NAME', how = 'left')\n",
    "merged2.shape"
   ]
  },
  {
   "cell_type": "code",
   "execution_count": 45,
   "metadata": {
    "collapsed": false
   },
   "outputs": [
    {
     "data": {
      "text/plain": [
       "tripduration                       0\n",
       "starttime                          0\n",
       "stoptime                           0\n",
       "start station id                   0\n",
       "start station name                 0\n",
       "start station latitude             0\n",
       "start station longitude            0\n",
       "end station id                     0\n",
       "end station name                   0\n",
       "end station latitude               0\n",
       "end station longitude              0\n",
       "bikeid                             0\n",
       "usertype                           0\n",
       "birth year                    353859\n",
       "gender                             0\n",
       "lat_long                           0\n",
       "address                            0\n",
       "zipcode                            0\n",
       "geo_points                         0\n",
       "zoning_idx                         0\n",
       "zonedist                           0\n",
       "zone_type                          0\n",
       "CD                                 0\n",
       "Borough                            0\n",
       "CD Number                          0\n",
       "CD Name                            0\n",
       "1970 Population                    0\n",
       "1980 Population                    0\n",
       "1990 Population                    0\n",
       "2000 Population                    0\n",
       "2010 Population                    0\n",
       "CD_ID                              0\n",
       "JURISDICTION NAME             106661\n",
       "COUNT PARTICIPANTS            106661\n",
       "PERCENT FEMALE                106661\n",
       "PERCENT MALE                  106661\n",
       "PERCENT PACIFIC ISLANDER      106661\n",
       "PERCENT HISPANIC LATINO       106661\n",
       "PERCENT AMERICAN INDIAN       106661\n",
       "PERCENT ASIAN NON HISPANIC    106661\n",
       "PERCENT WHITE NON HISPANIC    106661\n",
       "PERCENT BLACK NON HISPANIC    106661\n",
       "PERCENT OTHER ETHNICITY       106661\n",
       "dtype: int64"
      ]
     },
     "execution_count": 45,
     "metadata": {},
     "output_type": "execute_result"
    }
   ],
   "source": [
    "merged2.isnull().sum()"
   ]
  },
  {
   "cell_type": "markdown",
   "metadata": {},
   "source": [
    "Lots of missing values.\n",
    "\n",
    "Additionally, some of the demographic surveys have 0 participants and hence all the values are therefore 0. We will treat those as missing values"
   ]
  },
  {
   "cell_type": "code",
   "execution_count": 46,
   "metadata": {
    "collapsed": false
   },
   "outputs": [],
   "source": [
    "# FILL NAs \n",
    "merged2.fillna({'COUNT PARTICIPANTS': 0}, inplace = True)\n",
    "\n",
    "# Fill with mean for our features of interest\n",
    "null_cols = ['PERCENT FEMALE','PERCENT MALE','PERCENT PACIFIC ISLANDER','PERCENT HISPANIC LATINO',\n",
    "'PERCENT AMERICAN INDIAN', 'PERCENT ASIAN NON HISPANIC','PERCENT WHITE NON HISPANIC','PERCENT BLACK NON HISPANIC',\n",
    "'PERCENT OTHER ETHNICITY']\n",
    "\n",
    "merged2.loc[:,null_cols] = merged2[null_cols].fillna(merged2[null_cols].mean())\n",
    "\n",
    "# Rows where the number of participants is 0. Replace them with the mean as well\n",
    "merged2.loc[merged2['COUNT PARTICIPANTS'] == 0, null_cols] =  merged2.ix[merged2['COUNT PARTICIPANTS'] == 0, null_cols].apply(lambda c: c.replace(0,np.nan)).fillna(merged2[null_cols].mean())\n",
    "\n",
    "\n"
   ]
  },
  {
   "cell_type": "markdown",
   "metadata": {},
   "source": [
    "Parse the datetime feature into season, day of the week, and date (without time)"
   ]
  },
  {
   "cell_type": "code",
   "execution_count": 47,
   "metadata": {
    "collapsed": true
   },
   "outputs": [],
   "source": [
    "s = zip(range(1,13),['winter','winter']+['spring']*3 + ['summer']*3 + ['fall'] *3 + ['winter'])\n",
    "seasons = dict(s)\n",
    "\n",
    "\n",
    "dow = dict(zip(range(7), ['monday','tuesday','wednesday','thursday','friday','saturday','sunday']))\n",
    "\n",
    "merged2['season'] = merged2.starttime.dt.month.map(seasons)\n",
    "merged2['dow'] = merged2.starttime.dt.dayofweek.map(dow)\n",
    "merged2['date'] = merged2.starttime.dt.date"
   ]
  },
  {
   "cell_type": "markdown",
   "metadata": {},
   "source": [
    "### Weather Data"
   ]
  },
  {
   "cell_type": "markdown",
   "metadata": {},
   "source": [
    "Collected historical weather data from https://www.wunderground.com/"
   ]
  },
  {
   "cell_type": "code",
   "execution_count": 48,
   "metadata": {
    "collapsed": false
   },
   "outputs": [
    {
     "data": {
      "text/plain": [
       "372"
      ]
     },
     "execution_count": 48,
     "metadata": {},
     "output_type": "execute_result"
    }
   ],
   "source": [
    "weather = []\n",
    "with open('get_weather_data/historicalWeather.jl', 'r') as f:\n",
    "    for line in f:\n",
    "        weather.append(json.loads(line))\n",
    "        \n",
    "# hmmm we have 7 extra days...      \n",
    "len(weather)"
   ]
  },
  {
   "cell_type": "code",
   "execution_count": 49,
   "metadata": {
    "collapsed": false
   },
   "outputs": [
    {
     "name": "stdout",
     "output_type": "stream",
     "text": [
      "date             7\n",
      "dew_point        0\n",
      "max_temp         0\n",
      "mean_temp        0\n",
      "min_temp         0\n",
      "month_precip    11\n",
      "month_snow       7\n",
      "precip          22\n",
      "snow            14\n",
      "wind_speed       2\n",
      "dtype: int64\n"
     ]
    }
   ],
   "source": [
    "weather = pd.DataFrame(weather)\n",
    "# change data to numbers\n",
    "weather.iloc[:,1:] = weather.iloc[:,1:].apply(lambda c: pd.to_numeric(c, errors='coerce'))\n",
    "\n",
    "\n",
    "def reorder_date(d):\n",
    "    y,m,d = d.split('/')\n",
    "    return '/'.join([m,d,y])\n",
    "# parse dates\n",
    "weather['date'] = pd.to_datetime(weather.date.map(reorder_date), errors = 'coerce')\n",
    "\n",
    "print weather.isnull().sum()\n"
   ]
  },
  {
   "cell_type": "code",
   "execution_count": 50,
   "metadata": {
    "collapsed": false
   },
   "outputs": [],
   "source": [
    "weather = weather[[u'date', u'dew_point', u'max_temp',\n",
    " u'mean_temp', u'min_temp',u'precip', u'month_precip',\n",
    " u'snow', u'month_snow', u'wind_speed']]"
   ]
  },
  {
   "cell_type": "code",
   "execution_count": 51,
   "metadata": {
    "collapsed": false
   },
   "outputs": [
    {
     "data": {
      "text/plain": [
       "(365, 11)"
      ]
     },
     "execution_count": 51,
     "metadata": {},
     "output_type": "execute_result"
    }
   ],
   "source": [
    "# drop not real dates eg 2/30\n",
    "weather.drop(weather[weather.date.isnull()].index, inplace = True)\n",
    "weather.reset_index(inplace=True)\n",
    "weather.shape # HOORAY"
   ]
  },
  {
   "cell_type": "markdown",
   "metadata": {},
   "source": [
    "#### Fill NAs"
   ]
  },
  {
   "cell_type": "code",
   "execution_count": 52,
   "metadata": {
    "collapsed": false
   },
   "outputs": [
    {
     "name": "stdout",
     "output_type": "stream",
     "text": [
      "5.0\n"
     ]
    },
    {
     "data": {
      "text/plain": [
       "index           0\n",
       "date            0\n",
       "dew_point       0\n",
       "max_temp        0\n",
       "mean_temp       0\n",
       "min_temp        0\n",
       "precip          0\n",
       "month_precip    0\n",
       "snow            0\n",
       "month_snow      0\n",
       "wind_speed      0\n",
       "dtype: int64"
      ]
     },
     "execution_count": 52,
     "metadata": {},
     "output_type": "execute_result"
    }
   ],
   "source": [
    "# all the month precip nulls are in one week in may when it did not rain. So filling with 0s\n",
    "weather.fillna({'month_precip':0}, inplace = True)\n",
    "\n",
    "# Month Snow nulls are in first week of January when it did not snow and end of December where there was no snow\n",
    "# so filling with zeros\n",
    "weather.fillna({'month_snow':0, 'snow':0}, inplace = True)\n",
    "\n",
    "# Filling wind speed with the median value\n",
    "print weather.wind_speed.median()\n",
    "weather.fillna({'wind_speed': weather.wind_speed.median()}, inplace = True)\n",
    "weather.isnull().sum()\n",
    "\n",
    "\n",
    "#checked by hand, all the precip nulls are 0\n",
    "weather.fillna({'precip':0}, inplace = True)\n",
    "\n",
    "weather.isnull().sum()"
   ]
  },
  {
   "cell_type": "markdown",
   "metadata": {},
   "source": [
    "Join the Weather Data to the rest"
   ]
  },
  {
   "cell_type": "code",
   "execution_count": 53,
   "metadata": {
    "collapsed": false
   },
   "outputs": [
    {
     "name": "stdout",
     "output_type": "stream",
     "text": [
      "(365, 11)\n",
      "(2491402, 46)\n"
     ]
    },
    {
     "data": {
      "text/plain": [
       "(2491402, 57)"
      ]
     },
     "execution_count": 53,
     "metadata": {},
     "output_type": "execute_result"
    }
   ],
   "source": [
    "print weather.shape\n",
    "print merged2.shape\n",
    "merged3 = pd.merge(weather, merged2, left_on = weather.date.dt.date, right_on = 'date')\n",
    "merged3.shape"
   ]
  },
  {
   "cell_type": "code",
   "execution_count": 54,
   "metadata": {
    "collapsed": false
   },
   "outputs": [],
   "source": [
    "merged3.drop(['index','date_x'], inplace = True, axis = 1)"
   ]
  },
  {
   "cell_type": "code",
   "execution_count": 55,
   "metadata": {
    "collapsed": false
   },
   "outputs": [],
   "source": [
    "merged3.columns = [u'dew_point', u'max_temp',\n",
    "u'mean_temp', u'min_temp',\n",
    "u'precip', u'month_precip',\n",
    "u'snow', u'month_snow',\n",
    "u'wind_speed', u'tripduration',\n",
    "u'starttime', u'stoptime',\n",
    "u'start station id', u'start station name',\n",
    "u'start station latitude', u'start station longitude',\n",
    "u'end station id', u'end station name',\n",
    "u'end station latitude', u'end station longitude',\n",
    "u'bikeid', u'usertype',\n",
    "u'birth year', u'gender',\n",
    "u'lat_long', u'address',\n",
    "u'zipcode', u'geo_points',\n",
    "u'zoning_idx', u'zonedist',\n",
    "u'zone_type', u'CD',\n",
    "u'Borough', u'CD Number',\n",
    "u'CD Name', u'1970 Population',\n",
    "u'1980 Population', u'1990 Population',\n",
    "u'2000 Population', u'2010 Population',\n",
    "u'CD_ID', u'JURISDICTION NAME',\n",
    "u'COUNT PARTICIPANTS', u'PERCENT FEMALE',\n",
    "u'PERCENT MALE', u'PERCENT PACIFIC ISLANDER',\n",
    "u'PERCENT HISPANIC LATINO', u'PERCENT AMERICAN INDIAN',\n",
    "'PERCENT ASIAN NON HISPANIC', u'PERCENT WHITE NON HISPANIC',\n",
    "'PERCENT BLACK NON HISPANIC', u'PERCENT OTHER ETHNICITY',\n",
    "u'season', u'dow',\n",
    "u'date']"
   ]
  },
  {
   "cell_type": "markdown",
   "metadata": {},
   "source": [
    "Lastly I want to make sure that each station is represented by it's usage. Creating 450+ dummy variables for each of the stations would be too much, so instead I'm going to just create 2 new columns. One that represents the mean daily usage of the given station, the other just an indicator of whether or not that station is one of the top 6 most used stations.\n",
    "\n",
    "One thing to consider is how to calculate those 2 columns. Here I'm using the same data to calculate the mean usage and largest stations - but in practice I'd want to use the data from the same month the year prior."
   ]
  },
  {
   "cell_type": "code",
   "execution_count": 103,
   "metadata": {
    "collapsed": false,
    "scrolled": true
   },
   "outputs": [
    {
     "data": {
      "text/plain": [
       "station\n",
       "72      76.945652\n",
       "79      64.197802\n",
       "82      27.228261\n",
       "83      29.989130\n",
       "116    132.189873\n",
       "Name: usg, dtype: float64"
      ]
     },
     "execution_count": 103,
     "metadata": {},
     "output_type": "execute_result"
    }
   ],
   "source": [
    "usg = merged3.groupby(['date', 'start station id']).size().reset_index()\n",
    "usg.columns = ['date','station','usg']\n",
    "station_usg = usg.groupby('station').usg.mean()\n",
    "station_usg.head()"
   ]
  },
  {
   "cell_type": "markdown",
   "metadata": {
    "collapsed": true
   },
   "source": [
    "Now we need to move the data into a format so that we can feed it into a model.\n",
    "\n",
    "We are going to be predicting the ridership at a given station for a given day based off of \n",
    "    - demographics of the population living in the same zip code or district as the station\n",
    "    - what type of zoning district the station is in\n",
    "    - the day of the week\n",
    "    - the season"
   ]
  },
  {
   "cell_type": "code",
   "execution_count": 104,
   "metadata": {
    "collapsed": false
   },
   "outputs": [
    {
     "data": {
      "text/plain": [
       "dew_point                             object\n",
       "max_temp                              object\n",
       "mean_temp                             object\n",
       "min_temp                              object\n",
       "precip                               float64\n",
       "month_precip                         float64\n",
       "snow                                 float64\n",
       "month_snow                           float64\n",
       "wind_speed                           float64\n",
       "tripduration                           int64\n",
       "starttime                     datetime64[ns]\n",
       "stoptime                      datetime64[ns]\n",
       "start station id                       int64\n",
       "start station name                    object\n",
       "start station latitude               float64\n",
       "start station longitude              float64\n",
       "end station id                         int64\n",
       "end station name                      object\n",
       "end station latitude                 float64\n",
       "end station longitude                float64\n",
       "bikeid                                 int64\n",
       "usertype                              object\n",
       "birth year                           float64\n",
       "gender                                 int64\n",
       "lat_long                              object\n",
       "address                               object\n",
       "zipcode                                int64\n",
       "geo_points                            object\n",
       "zoning_idx                             int64\n",
       "zonedist                              object\n",
       "zone_type                             object\n",
       "CD                                    object\n",
       "Borough                               object\n",
       "CD Number                              int64\n",
       "CD Name                               object\n",
       "1970 Population                        int64\n",
       "1980 Population                        int64\n",
       "1990 Population                        int64\n",
       "2000 Population                        int64\n",
       "2010 Population                        int64\n",
       "CD_ID                                 object\n",
       "JURISDICTION NAME                    float64\n",
       "COUNT PARTICIPANTS                   float64\n",
       "PERCENT FEMALE                       float64\n",
       "PERCENT MALE                         float64\n",
       "PERCENT PACIFIC ISLANDER             float64\n",
       "PERCENT HISPANIC LATINO              float64\n",
       "PERCENT AMERICAN INDIAN              float64\n",
       "PERCENT ASIAN NON HISPANIC           float64\n",
       "PERCENT WHITE NON HISPANIC           float64\n",
       "PERCENT BLACK NON HISPANIC           float64\n",
       "PERCENT OTHER ETHNICITY              float64\n",
       "season                                object\n",
       "dow                                   object\n",
       "date                                  object\n",
       "dtype: object"
      ]
     },
     "execution_count": 104,
     "metadata": {},
     "output_type": "execute_result"
    }
   ],
   "source": [
    "data = merged3\n",
    "data.dtypes"
   ]
  },
  {
   "cell_type": "code",
   "execution_count": 105,
   "metadata": {
    "collapsed": false
   },
   "outputs": [],
   "source": [
    "data[['dew_point','max_temp','mean_temp','min_temp']] = data[['dew_point','max_temp','mean_temp','min_temp']].astype('int64')"
   ]
  },
  {
   "cell_type": "code",
   "execution_count": 169,
   "metadata": {
    "collapsed": false
   },
   "outputs": [
    {
     "data": {
      "text/plain": [
       "{293: 2, 426: 5, 435: 3, 497: 4, 519: 1, 521: 0}"
      ]
     },
     "execution_count": 169,
     "metadata": {},
     "output_type": "execute_result"
    }
   ],
   "source": [
    "top6 = station_usg.sort_values(ascending=False)[:6].index.tolist()\n",
    "top6 = {s: top6.index(s) for s in top6}\n",
    "top6"
   ]
  },
  {
   "cell_type": "code",
   "execution_count": 198,
   "metadata": {
    "collapsed": false
   },
   "outputs": [
    {
     "name": "stdout",
     "output_type": "stream",
     "text": [
      "(32792,)\n",
      "(32792, 57)\n",
      "(32792, 4)\n",
      "(32792, 7)\n",
      "(32792, 5)\n",
      "(32792, 3)\n"
     ]
    }
   ],
   "source": [
    "Y = data.groupby(['date','start station id']).size()\n",
    "print Y.shape\n",
    "\n",
    "X = data.sort_values(['date','start station id']).drop_duplicates(['date','start station id'])\n",
    "X['station_mean_usg'] = X['start station id'].map(station_usg)\n",
    "X['busy_stn'] = 0\n",
    "X.loc[X['start station id'].isin(station_usg.sort_values(ascending = False)[:6].index), 'busy_stn'] = 1\n",
    "#X.loc[X['busy_stn'] == 1, 'busy_stn'] = X.loc[X['busy_stn'] == 1, 'start station id'].map(top6)\n",
    "print X.shape\n",
    "\n",
    "\n",
    "\n",
    "# season, day of the week, zone type, borough, and CD are categorical and need to be 1-hot encoded\n",
    "season_col = pd.get_dummies(X.season)\n",
    "season_col['summer'] = 0 \n",
    "dow_col = pd.get_dummies(X.dow)\n",
    "zonetype_col = pd.get_dummies(X.zone_type)\n",
    "borough_col = pd.get_dummies(X.Borough)\n",
    "\n",
    "print season_col.shape\n",
    "print dow_col.shape\n",
    "print zonetype_col.shape\n",
    "print borough_col.shape"
   ]
  },
  {
   "cell_type": "code",
   "execution_count": 188,
   "metadata": {
    "collapsed": false
   },
   "outputs": [],
   "source": [
    "with open('XY.pkl','wb') as f:\n",
    "    pickle.dump((X,Y), f, 2)\n",
    "    "
   ]
  },
  {
   "cell_type": "code",
   "execution_count": 131,
   "metadata": {
    "collapsed": true
   },
   "outputs": [],
   "source": [
    "with open('XY.pkl','rb') as f:\n",
    "    X, Y = pickle.load(f)"
   ]
  },
  {
   "cell_type": "code",
   "execution_count": 199,
   "metadata": {
    "collapsed": false
   },
   "outputs": [
    {
     "name": "stdout",
     "output_type": "stream",
     "text": [
      "(32792, 42) (32792,)\n"
     ]
    },
    {
     "data": {
      "text/html": [
       "<div>\n",
       "<table border=\"1\" class=\"dataframe\">\n",
       "  <thead>\n",
       "    <tr style=\"text-align: right;\">\n",
       "      <th></th>\n",
       "      <th>index</th>\n",
       "      <th>dew_point</th>\n",
       "      <th>max_temp</th>\n",
       "      <th>mean_temp</th>\n",
       "      <th>min_temp</th>\n",
       "      <th>precip</th>\n",
       "      <th>month_precip</th>\n",
       "      <th>snow</th>\n",
       "      <th>month_snow</th>\n",
       "      <th>wind_speed</th>\n",
       "      <th>PERCENT FEMALE</th>\n",
       "      <th>PERCENT MALE</th>\n",
       "      <th>PERCENT PACIFIC ISLANDER</th>\n",
       "      <th>PERCENT HISPANIC LATINO</th>\n",
       "      <th>PERCENT AMERICAN INDIAN</th>\n",
       "      <th>PERCENT ASIAN NON HISPANIC</th>\n",
       "      <th>PERCENT WHITE NON HISPANIC</th>\n",
       "      <th>PERCENT BLACK NON HISPANIC</th>\n",
       "      <th>PERCENT OTHER ETHNICITY</th>\n",
       "      <th>2000 Population</th>\n",
       "      <th>2010 Population</th>\n",
       "      <th>station_mean_usg</th>\n",
       "      <th>busy_stn</th>\n",
       "      <th>fall</th>\n",
       "      <th>spring</th>\n",
       "      <th>winter</th>\n",
       "      <th>summer</th>\n",
       "      <th>friday</th>\n",
       "      <th>monday</th>\n",
       "      <th>saturday</th>\n",
       "      <th>sunday</th>\n",
       "      <th>thursday</th>\n",
       "      <th>tuesday</th>\n",
       "      <th>wednesday</th>\n",
       "      <th>B</th>\n",
       "      <th>C</th>\n",
       "      <th>M</th>\n",
       "      <th>PARK</th>\n",
       "      <th>R</th>\n",
       "      <th>Brooklyn</th>\n",
       "      <th>Manhattan</th>\n",
       "      <th>Queens</th>\n",
       "    </tr>\n",
       "  </thead>\n",
       "  <tbody>\n",
       "    <tr>\n",
       "      <th>0</th>\n",
       "      <td>1935852</td>\n",
       "      <td>10</td>\n",
       "      <td>39</td>\n",
       "      <td>33</td>\n",
       "      <td>27</td>\n",
       "      <td>0.0</td>\n",
       "      <td>0.0</td>\n",
       "      <td>0.0</td>\n",
       "      <td>0.0</td>\n",
       "      <td>7.0</td>\n",
       "      <td>0.397814</td>\n",
       "      <td>0.249522</td>\n",
       "      <td>0.0</td>\n",
       "      <td>0.087878</td>\n",
       "      <td>0.0</td>\n",
       "      <td>0.343625</td>\n",
       "      <td>0.042399</td>\n",
       "      <td>0.128165</td>\n",
       "      <td>0.042431</td>\n",
       "      <td>87479</td>\n",
       "      <td>103245</td>\n",
       "      <td>76.945652</td>\n",
       "      <td>0</td>\n",
       "      <td>0.0</td>\n",
       "      <td>0.0</td>\n",
       "      <td>1.0</td>\n",
       "      <td>0</td>\n",
       "      <td>0.0</td>\n",
       "      <td>0.0</td>\n",
       "      <td>0.0</td>\n",
       "      <td>0.0</td>\n",
       "      <td>1.0</td>\n",
       "      <td>0.0</td>\n",
       "      <td>0.0</td>\n",
       "      <td>0.0</td>\n",
       "      <td>0.0</td>\n",
       "      <td>1.0</td>\n",
       "      <td>0.0</td>\n",
       "      <td>0.0</td>\n",
       "      <td>0.0</td>\n",
       "      <td>1.0</td>\n",
       "      <td>0.0</td>\n",
       "    </tr>\n",
       "    <tr>\n",
       "      <th>1</th>\n",
       "      <td>1939310</td>\n",
       "      <td>10</td>\n",
       "      <td>39</td>\n",
       "      <td>33</td>\n",
       "      <td>27</td>\n",
       "      <td>0.0</td>\n",
       "      <td>0.0</td>\n",
       "      <td>0.0</td>\n",
       "      <td>0.0</td>\n",
       "      <td>7.0</td>\n",
       "      <td>0.130000</td>\n",
       "      <td>0.880000</td>\n",
       "      <td>0.0</td>\n",
       "      <td>0.000000</td>\n",
       "      <td>0.0</td>\n",
       "      <td>1.000000</td>\n",
       "      <td>0.000000</td>\n",
       "      <td>0.000000</td>\n",
       "      <td>0.000000</td>\n",
       "      <td>34420</td>\n",
       "      <td>60978</td>\n",
       "      <td>64.197802</td>\n",
       "      <td>0</td>\n",
       "      <td>0.0</td>\n",
       "      <td>0.0</td>\n",
       "      <td>1.0</td>\n",
       "      <td>0</td>\n",
       "      <td>0.0</td>\n",
       "      <td>0.0</td>\n",
       "      <td>0.0</td>\n",
       "      <td>0.0</td>\n",
       "      <td>1.0</td>\n",
       "      <td>0.0</td>\n",
       "      <td>0.0</td>\n",
       "      <td>0.0</td>\n",
       "      <td>1.0</td>\n",
       "      <td>0.0</td>\n",
       "      <td>0.0</td>\n",
       "      <td>0.0</td>\n",
       "      <td>0.0</td>\n",
       "      <td>1.0</td>\n",
       "      <td>0.0</td>\n",
       "    </tr>\n",
       "    <tr>\n",
       "      <th>2</th>\n",
       "      <td>1938149</td>\n",
       "      <td>10</td>\n",
       "      <td>39</td>\n",
       "      <td>33</td>\n",
       "      <td>27</td>\n",
       "      <td>0.0</td>\n",
       "      <td>0.0</td>\n",
       "      <td>0.0</td>\n",
       "      <td>0.0</td>\n",
       "      <td>7.0</td>\n",
       "      <td>0.690000</td>\n",
       "      <td>0.310000</td>\n",
       "      <td>0.0</td>\n",
       "      <td>0.130000</td>\n",
       "      <td>0.0</td>\n",
       "      <td>0.560000</td>\n",
       "      <td>0.000000</td>\n",
       "      <td>0.310000</td>\n",
       "      <td>0.000000</td>\n",
       "      <td>164407</td>\n",
       "      <td>163277</td>\n",
       "      <td>27.228261</td>\n",
       "      <td>0</td>\n",
       "      <td>0.0</td>\n",
       "      <td>0.0</td>\n",
       "      <td>1.0</td>\n",
       "      <td>0</td>\n",
       "      <td>0.0</td>\n",
       "      <td>0.0</td>\n",
       "      <td>0.0</td>\n",
       "      <td>0.0</td>\n",
       "      <td>1.0</td>\n",
       "      <td>0.0</td>\n",
       "      <td>0.0</td>\n",
       "      <td>0.0</td>\n",
       "      <td>0.0</td>\n",
       "      <td>0.0</td>\n",
       "      <td>0.0</td>\n",
       "      <td>1.0</td>\n",
       "      <td>0.0</td>\n",
       "      <td>1.0</td>\n",
       "      <td>0.0</td>\n",
       "    </tr>\n",
       "    <tr>\n",
       "      <th>3</th>\n",
       "      <td>1936991</td>\n",
       "      <td>10</td>\n",
       "      <td>39</td>\n",
       "      <td>33</td>\n",
       "      <td>27</td>\n",
       "      <td>0.0</td>\n",
       "      <td>0.0</td>\n",
       "      <td>0.0</td>\n",
       "      <td>0.0</td>\n",
       "      <td>7.0</td>\n",
       "      <td>0.397814</td>\n",
       "      <td>0.249522</td>\n",
       "      <td>0.0</td>\n",
       "      <td>0.087878</td>\n",
       "      <td>0.0</td>\n",
       "      <td>0.343625</td>\n",
       "      <td>0.042399</td>\n",
       "      <td>0.128165</td>\n",
       "      <td>0.042431</td>\n",
       "      <td>98620</td>\n",
       "      <td>99617</td>\n",
       "      <td>29.989130</td>\n",
       "      <td>0</td>\n",
       "      <td>0.0</td>\n",
       "      <td>0.0</td>\n",
       "      <td>1.0</td>\n",
       "      <td>0</td>\n",
       "      <td>0.0</td>\n",
       "      <td>0.0</td>\n",
       "      <td>0.0</td>\n",
       "      <td>0.0</td>\n",
       "      <td>1.0</td>\n",
       "      <td>0.0</td>\n",
       "      <td>0.0</td>\n",
       "      <td>0.0</td>\n",
       "      <td>1.0</td>\n",
       "      <td>0.0</td>\n",
       "      <td>0.0</td>\n",
       "      <td>0.0</td>\n",
       "      <td>1.0</td>\n",
       "      <td>0.0</td>\n",
       "      <td>0.0</td>\n",
       "    </tr>\n",
       "    <tr>\n",
       "      <th>4</th>\n",
       "      <td>1935677</td>\n",
       "      <td>10</td>\n",
       "      <td>39</td>\n",
       "      <td>33</td>\n",
       "      <td>27</td>\n",
       "      <td>0.0</td>\n",
       "      <td>0.0</td>\n",
       "      <td>0.0</td>\n",
       "      <td>0.0</td>\n",
       "      <td>7.0</td>\n",
       "      <td>0.670000</td>\n",
       "      <td>0.330000</td>\n",
       "      <td>0.0</td>\n",
       "      <td>0.330000</td>\n",
       "      <td>0.0</td>\n",
       "      <td>0.000000</td>\n",
       "      <td>0.000000</td>\n",
       "      <td>0.330000</td>\n",
       "      <td>0.330000</td>\n",
       "      <td>87479</td>\n",
       "      <td>103245</td>\n",
       "      <td>132.189873</td>\n",
       "      <td>0</td>\n",
       "      <td>0.0</td>\n",
       "      <td>0.0</td>\n",
       "      <td>1.0</td>\n",
       "      <td>0</td>\n",
       "      <td>0.0</td>\n",
       "      <td>0.0</td>\n",
       "      <td>0.0</td>\n",
       "      <td>0.0</td>\n",
       "      <td>1.0</td>\n",
       "      <td>0.0</td>\n",
       "      <td>0.0</td>\n",
       "      <td>0.0</td>\n",
       "      <td>1.0</td>\n",
       "      <td>0.0</td>\n",
       "      <td>0.0</td>\n",
       "      <td>0.0</td>\n",
       "      <td>0.0</td>\n",
       "      <td>1.0</td>\n",
       "      <td>0.0</td>\n",
       "    </tr>\n",
       "  </tbody>\n",
       "</table>\n",
       "</div>"
      ],
      "text/plain": [
       "     index  dew_point  max_temp  mean_temp  min_temp  precip  month_precip  \\\n",
       "0  1935852         10        39         33        27     0.0           0.0   \n",
       "1  1939310         10        39         33        27     0.0           0.0   \n",
       "2  1938149         10        39         33        27     0.0           0.0   \n",
       "3  1936991         10        39         33        27     0.0           0.0   \n",
       "4  1935677         10        39         33        27     0.0           0.0   \n",
       "\n",
       "   snow  month_snow  wind_speed  PERCENT FEMALE  PERCENT MALE  \\\n",
       "0   0.0         0.0         7.0        0.397814      0.249522   \n",
       "1   0.0         0.0         7.0        0.130000      0.880000   \n",
       "2   0.0         0.0         7.0        0.690000      0.310000   \n",
       "3   0.0         0.0         7.0        0.397814      0.249522   \n",
       "4   0.0         0.0         7.0        0.670000      0.330000   \n",
       "\n",
       "   PERCENT PACIFIC ISLANDER  PERCENT HISPANIC LATINO  PERCENT AMERICAN INDIAN  \\\n",
       "0                       0.0                 0.087878                      0.0   \n",
       "1                       0.0                 0.000000                      0.0   \n",
       "2                       0.0                 0.130000                      0.0   \n",
       "3                       0.0                 0.087878                      0.0   \n",
       "4                       0.0                 0.330000                      0.0   \n",
       "\n",
       "   PERCENT ASIAN NON HISPANIC  PERCENT WHITE NON HISPANIC  \\\n",
       "0                    0.343625                    0.042399   \n",
       "1                    1.000000                    0.000000   \n",
       "2                    0.560000                    0.000000   \n",
       "3                    0.343625                    0.042399   \n",
       "4                    0.000000                    0.000000   \n",
       "\n",
       "   PERCENT BLACK NON HISPANIC  PERCENT OTHER ETHNICITY  2000 Population  \\\n",
       "0                    0.128165                 0.042431            87479   \n",
       "1                    0.000000                 0.000000            34420   \n",
       "2                    0.310000                 0.000000           164407   \n",
       "3                    0.128165                 0.042431            98620   \n",
       "4                    0.330000                 0.330000            87479   \n",
       "\n",
       "   2010 Population  station_mean_usg  busy_stn  fall  spring  winter  summer  \\\n",
       "0           103245         76.945652         0   0.0     0.0     1.0       0   \n",
       "1            60978         64.197802         0   0.0     0.0     1.0       0   \n",
       "2           163277         27.228261         0   0.0     0.0     1.0       0   \n",
       "3            99617         29.989130         0   0.0     0.0     1.0       0   \n",
       "4           103245        132.189873         0   0.0     0.0     1.0       0   \n",
       "\n",
       "   friday  monday  saturday  sunday  thursday  tuesday  wednesday    B    C  \\\n",
       "0     0.0     0.0       0.0     0.0       1.0      0.0        0.0  0.0  0.0   \n",
       "1     0.0     0.0       0.0     0.0       1.0      0.0        0.0  0.0  1.0   \n",
       "2     0.0     0.0       0.0     0.0       1.0      0.0        0.0  0.0  0.0   \n",
       "3     0.0     0.0       0.0     0.0       1.0      0.0        0.0  0.0  1.0   \n",
       "4     0.0     0.0       0.0     0.0       1.0      0.0        0.0  0.0  1.0   \n",
       "\n",
       "     M  PARK    R  Brooklyn  Manhattan  Queens  \n",
       "0  1.0   0.0  0.0       0.0        1.0     0.0  \n",
       "1  0.0   0.0  0.0       0.0        1.0     0.0  \n",
       "2  0.0   0.0  1.0       0.0        1.0     0.0  \n",
       "3  0.0   0.0  0.0       1.0        0.0     0.0  \n",
       "4  0.0   0.0  0.0       0.0        1.0     0.0  "
      ]
     },
     "execution_count": 199,
     "metadata": {},
     "output_type": "execute_result"
    }
   ],
   "source": [
    "ftr_cols = ['dew_point', u'max_temp', u'mean_temp', u'min_temp', u'precip',\n",
    "       u'month_precip', u'snow', u'month_snow', u'wind_speed',\n",
    "       u'PERCENT FEMALE', u'PERCENT MALE', u'PERCENT PACIFIC ISLANDER',\n",
    "       u'PERCENT HISPANIC LATINO', u'PERCENT AMERICAN INDIAN',\n",
    "       u'PERCENT ASIAN NON HISPANIC', u'PERCENT WHITE NON HISPANIC',\n",
    "       u'PERCENT BLACK NON HISPANIC', u'PERCENT OTHER ETHNICITY', \n",
    "      '2000 Population', '2010 Population', 'station_mean_usg','busy_stn']\n",
    "x = pd.merge(X[ftr_cols], season_col, \n",
    "             left_index=True, right_index = True).merge(dow_col, \n",
    "                                left_index=True, right_index = True).merge(zonetype_col, \n",
    "                                    left_index=True, right_index = True).merge(borough_col, left_index = True,\n",
    "                                                    right_index=True).reset_index()\n",
    "y = Y.reset_index(drop=True)\n",
    "print x.shape, y.shape\n",
    "x.head()"
   ]
  },
  {
   "cell_type": "code",
   "execution_count": 200,
   "metadata": {
    "collapsed": false
   },
   "outputs": [],
   "source": [
    "x['Pop_Growth'] = (x['2010 Population'] - x['2000 Population'])/x['2000 Population']\n",
    "\n"
   ]
  },
  {
   "cell_type": "code",
   "execution_count": 201,
   "metadata": {
    "collapsed": false
   },
   "outputs": [],
   "source": [
    "x= x.drop(['PERCENT PACIFIC ISLANDER', 'PERCENT AMERICAN INDIAN'], axis = 1)"
   ]
  },
  {
   "cell_type": "code",
   "execution_count": null,
   "metadata": {
    "collapsed": true
   },
   "outputs": [],
   "source": []
  },
  {
   "cell_type": "code",
   "execution_count": 202,
   "metadata": {
    "collapsed": true
   },
   "outputs": [],
   "source": [
    "from sklearn.model_selection import train_test_split\n",
    "from sklearn import metrics\n",
    "from sklearn.preprocessing import MinMaxScaler\n",
    "from sklearn.linear_model import LinearRegression, Lasso\n",
    "from sklearn.ensemble import RandomForestRegressor, ExtraTreesRegressor"
   ]
  },
  {
   "cell_type": "code",
   "execution_count": 203,
   "metadata": {
    "collapsed": false
   },
   "outputs": [],
   "source": [
    "x_train, x_test, y_train, y_test = train_test_split(x.ix[:,1:],y)"
   ]
  },
  {
   "cell_type": "code",
   "execution_count": 204,
   "metadata": {
    "collapsed": false
   },
   "outputs": [
    {
     "name": "stdout",
     "output_type": "stream",
     "text": [
      "LREG: 0.541705961683\n",
      "L1: 0.603488180215\n"
     ]
    }
   ],
   "source": [
    "lreg = LinearRegression(n_jobs = -1, normalize=True)\n",
    "l1 = Lasso(alpha = 0.0005, normalize=True)\n",
    "lreg.fit(x_train, np.log(y_train))\n",
    "l1.fit(x_train, np.log(y_train))\n",
    "\n",
    "preds = lreg.predict(x_test)\n",
    "print \"LREG:\", np.sqrt(metrics.mean_squared_error(np.log(y_test), preds))\n",
    "\n",
    "preds2 = l1.predict(x_test)\n",
    "print \"L1:\", np.sqrt(metrics.mean_squared_error(np.log(y_test), preds2))"
   ]
  },
  {
   "cell_type": "code",
   "execution_count": 205,
   "metadata": {
    "collapsed": false
   },
   "outputs": [
    {
     "name": "stdout",
     "output_type": "stream",
     "text": [
      "0.431493757269\n",
      "0.397453580389\n",
      "24.8411981588\n"
     ]
    }
   ],
   "source": [
    "rfor = RandomForestRegressor(n_estimators=100, max_features = 'sqrt', max_depth = 10)\n",
    "rfor.fit(x_train,np.log(y_train))\n",
    "etree = ExtraTreesRegressor(n_estimators=150, max_depth=10, bootstrap=True)\n",
    "etree.fit(x_train, np.log(y_train))\n",
    "\n",
    "preds = rfor.predict(x_test)\n",
    "print np.sqrt(metrics.mean_squared_error(np.log(y_test), preds))\n",
    "\n",
    "preds2 = etree.predict(x_test)\n",
    "print np.sqrt(metrics.mean_squared_error(np.log(y_test), preds2))\n",
    "\n",
    "print np.sqrt(metrics.mean_squared_error(y_test, np.exp(preds2)))"
   ]
  },
  {
   "cell_type": "code",
   "execution_count": 186,
   "metadata": {
    "collapsed": false
   },
   "outputs": [
    {
     "name": "stdout",
     "output_type": "stream",
     "text": [
      "0.360600664098\n"
     ]
    },
    {
     "data": {
      "text/plain": [
       "19.885858371345655"
      ]
     },
     "execution_count": 186,
     "metadata": {},
     "output_type": "execute_result"
    }
   ],
   "source": [
    "import xgboost\n",
    "\n",
    "xg = xgboost.XGBRegressor(objective='count:poisson',learning_rate=0.08, max_depth = 15)\n",
    "xg.fit(x_train, np.log(y_train))\n",
    "\n",
    "preds = xg.predict(x_test)\n",
    "print np.sqrt(metrics.mean_squared_error(np.log(y_test), preds))\n",
    "np.sqrt(metrics.mean_squared_error(y_test, np.exp(preds)))"
   ]
  },
  {
   "cell_type": "code",
   "execution_count": 206,
   "metadata": {
    "collapsed": false
   },
   "outputs": [
    {
     "data": {
      "text/plain": [
       "[('winter', 0.34513264538814731),\n",
       " ('station_mean_usg', 0.2662237915413363),\n",
       " ('Manhattan', 0.25596463051575108),\n",
       " (u'precip', 0.026274100657352056),\n",
       " (u'snow', 0.014981652310745233),\n",
       " ('saturday', 0.013305483963400777),\n",
       " ('busy_stn', 0.0063494617662848592),\n",
       " ('sunday', 0.0062669189690188502),\n",
       " (u'month_precip', 0.0061872029391538035),\n",
       " ('Pop_Growth', 0.0055163104224324492),\n",
       " (u'2010 Population', 0.0052798193406238926),\n",
       " ('tuesday', 0.0052372410136383206),\n",
       " (u'month_snow', 0.0051420806959690717),\n",
       " (u'2000 Population', 0.0044609263003065319),\n",
       " ('Brooklyn', 0.0035385516309032593),\n",
       " (u'dew_point', 0.0031839592593135933),\n",
       " (u'C', 0.0023633578750603553),\n",
       " (u'min_temp', 0.002182338482096854),\n",
       " (u'mean_temp', 0.0019984840468888821),\n",
       " (u'M', 0.0018687452837894177),\n",
       " (u'PERCENT HISPANIC LATINO', 0.0017552228057356137),\n",
       " (u'R', 0.0016523191089497279),\n",
       " (u'max_temp', 0.0014777726730924126),\n",
       " (u'PERCENT MALE', 0.0013055987261862676),\n",
       " (u'PERCENT OTHER ETHNICITY', 0.0012661070059701001),\n",
       " ('PERCENT ASIAN NON HISPANIC', 0.0012339167632532623),\n",
       " (u'PERCENT FEMALE', 0.0011669131724175263),\n",
       " (u'PERCENT WHITE NON HISPANIC', 0.0011291127768735274),\n",
       " (u'wind_speed', 0.001111358127708837),\n",
       " ('PERCENT BLACK NON HISPANIC', 0.0010696959372210415),\n",
       " ('spring', 0.0009463139431491025),\n",
       " ('fall', 0.00094212172773429327),\n",
       " ('monday', 0.00086535128308062946)]"
      ]
     },
     "execution_count": 206,
     "metadata": {},
     "output_type": "execute_result"
    }
   ],
   "source": [
    "sorted(zip(x_test.columns, lreg.coef_), key = lambda x: abs(x[1]), reverse = True)[:25]\n",
    "\n",
    "sorted(zip(x_test.columns, etree.feature_importances_), key = lambda x: abs(x[1]), reverse = True)[:33]\n"
   ]
  },
  {
   "cell_type": "code",
   "execution_count": 207,
   "metadata": {
    "collapsed": false
   },
   "outputs": [],
   "source": [
    "x = x.drop(x.columns[~x.columns.isin(['winter', 'Manhattan', u'precip', 'Pop_Growth', u'2010 Population', u'2000 Population', 'saturday', \n",
    "u'snow', u'C', 'Brooklyn', 'sunday', u'month_precip', u'PERCENT HISPANIC LATINO', u'PERCENT FEMALE', \n",
    "u'PERCENT MALE', u'R', u'month_snow', u'M', 'PERCENT ASIAN NON HISPANIC', 'tuesday', u'PARK', \n",
    "u'PERCENT WHITE NON HISPANIC', u'PERCENT OTHER ETHNICITY', u'dew_point', 'PERCENT BLACK NON HISPANIC', 'station_mean_usg','busy_stn'])], axis =1)\n"
   ]
  },
  {
   "cell_type": "code",
   "execution_count": 208,
   "metadata": {
    "collapsed": false
   },
   "outputs": [
    {
     "name": "stdout",
     "output_type": "stream",
     "text": [
      "0.395449723291\n",
      "26.0609830358\n"
     ]
    }
   ],
   "source": [
    "# same performance, less features\n",
    "x_train, x_test, y_train, y_test = train_test_split(x,y)\n",
    "\n",
    "etree = ExtraTreesRegressor(n_estimators=100, max_depth=10, bootstrap=False)\n",
    "etree.fit(x_train, np.log(y_train))\n",
    "\n",
    "preds2 = etree.predict(x_test)\n",
    "print np.sqrt(metrics.mean_squared_error(np.log(y_test), preds2))\n",
    "\n",
    "print np.sqrt(metrics.mean_squared_error(y_test, np.exp(preds2)))"
   ]
  },
  {
   "cell_type": "code",
   "execution_count": 209,
   "metadata": {
    "collapsed": false
   },
   "outputs": [
    {
     "data": {
      "text/plain": [
       "[<matplotlib.lines.Line2D at 0x3d653a090>]"
      ]
     },
     "execution_count": 209,
     "metadata": {},
     "output_type": "execute_result"
    },
    {
     "data": {
      "image/png": "[encoded data removed]",
      "text/plain": [
       "<matplotlib.figure.Figure at 0x3d653a450>"
      ]
     },
     "metadata": {},
     "output_type": "display_data"
    }
   ],
   "source": [
    "plt.scatter(y_test, np.exp(preds2))\n",
    "plt.plot(plt.xlim(), plt.xlim())"
   ]
  },
  {
   "cell_type": "code",
   "execution_count": null,
   "metadata": {
    "collapsed": true
   },
   "outputs": [],
   "source": []
  }
 ],
 "metadata": {
  "kernelspec": {
   "display_name": "Python 2",
   "language": "python",
   "name": "python2"
  },
  "language_info": {
   "codemirror_mode": {
    "name": "ipython",
    "version": 2
   },
   "file_extension": ".py",
   "mimetype": "text/x-python",
   "name": "python",
   "nbconvert_exporter": "python",
   "pygments_lexer": "ipython2",
   "version": "2.7.10"
  }
 },
 "nbformat": 4,
 "nbformat_minor": 0
}
